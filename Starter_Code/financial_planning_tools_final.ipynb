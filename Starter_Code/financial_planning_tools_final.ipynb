{
 "cells": [
  {
   "cell_type": "markdown",
   "metadata": {},
   "source": [
    "# Financial Planning with APIs and Simulations\n",
    "\n",
    "In this Challenge, you’ll create two financial analysis tools by using a single Jupyter notebook:\n",
    "\n",
    "Part 1: A financial planner for emergencies. The members will be able to use this tool to visualize their current savings. The members can then determine if they have enough reserves for an emergency fund.\n",
    "\n",
    "Part 2: A financial planner for retirement. This tool will forecast the performance of their retirement portfolio in 30 years. To do this, the tool will make an Alpaca API call via the Alpaca SDK to get historical price data for use in Monte Carlo simulations.\n",
    "\n",
    "You’ll use the information from the Monte Carlo simulation to answer questions about the portfolio in your Jupyter notebook.\n",
    "\n"
   ]
  },
  {
   "cell_type": "code",
   "execution_count": 1,
   "metadata": {},
   "outputs": [],
   "source": [
    "# Import the required libraries and dependencies\n",
    "import os\n",
    "import requests\n",
    "import json\n",
    "import pandas as pd\n",
    "from dotenv import load_dotenv\n",
    "import alpaca_trade_api as tradeapi\n",
    "from MCForecastTools import MCSimulation\n",
    "\n",
    "%matplotlib inline"
   ]
  },
  {
   "cell_type": "code",
   "execution_count": 6,
   "metadata": {},
   "outputs": [
    {
     "data": {
      "text/plain": [
       "True"
      ]
     },
     "execution_count": 6,
     "metadata": {},
     "output_type": "execute_result"
    }
   ],
   "source": [
    "# Load the environment variables from the .env file\n",
    "#by calling the load_dotenv function\n",
    "load_dotenv()\n",
    "True"
   ]
  },
  {
   "cell_type": "markdown",
   "metadata": {},
   "source": [
    "## Part 1: Create a Financial Planner for Emergencies"
   ]
  },
  {
   "cell_type": "markdown",
   "metadata": {},
   "source": [
    "### Evaluate the Cryptocurrency Wallet by Using the Requests Library\n",
    "\n",
    "In this section, you’ll determine the current value of a member’s cryptocurrency wallet. You’ll collect the current prices for the Bitcoin and Ethereum cryptocurrencies by using the Python Requests library. For the prototype, you’ll assume that the member holds the 1.2 Bitcoins (BTC) and 5.3 Ethereum coins (ETH). To do all this, complete the following steps:\n",
    "\n",
    "1. Create a variable named `monthly_income`, and set its value to `12000`.\n",
    "\n",
    "2. Use the Requests library to get the current price (in US dollars) of Bitcoin (BTC) and Ethereum (ETH) by using the API endpoints that the starter code supplies.\n",
    "\n",
    "3. Navigate the JSON response object to access the current price of each coin, and store each in a variable.\n",
    "\n",
    "    > **Hint** Note the specific identifier for each cryptocurrency in the API JSON response. The Bitcoin identifier is `1`, and the Ethereum identifier is `1027`.\n",
    "\n",
    "4. Calculate the value, in US dollars, of the current amount of each cryptocurrency and of the entire cryptocurrency wallet.\n",
    "\n"
   ]
  },
  {
   "cell_type": "code",
   "execution_count": 44,
   "metadata": {},
   "outputs": [],
   "source": [
    "# The current number of coins for each cryptocurrency asset held in the portfolio.\n",
    "btc_coins = 1.2\n",
    "eth_coins = 5.3"
   ]
  },
  {
   "cell_type": "markdown",
   "metadata": {},
   "source": [
    "#### Step 1: Create a variable named `monthly_income`, and set its value to `12000`."
   ]
  },
  {
   "cell_type": "code",
   "execution_count": 45,
   "metadata": {},
   "outputs": [],
   "source": [
    "# The monthly amount for the member's household income\n",
    "monthly_income = 12000\n"
   ]
  },
  {
   "cell_type": "markdown",
   "metadata": {},
   "source": [
    "#### Review the endpoint URLs for the API calls to Free Crypto API in order to get the current pricing information for both BTC and ETH."
   ]
  },
  {
   "cell_type": "code",
   "execution_count": 47,
   "metadata": {},
   "outputs": [],
   "source": [
    "# The Free Crypto API Call endpoint URLs for the held cryptocurrency assets\n",
    "btc_url = \"https://api.alternative.me/v2/ticker/Bitcoin/?convert=USD\"\n",
    "eth_url = \"https://api.alternative.me/v2/ticker/Ethereum/?convert=USD\""
   ]
  },
  {
   "cell_type": "markdown",
   "metadata": {},
   "source": [
    "#### Step 2. Use the Requests library to get the current price (in US dollars) of Bitcoin (BTC) and Ethereum (ETH) by using the API endpoints that the starter code supplied."
   ]
  },
  {
   "cell_type": "code",
   "execution_count": 48,
   "metadata": {},
   "outputs": [
    {
     "name": "stdout",
     "output_type": "stream",
     "text": [
      "{\n",
      "   \"data\": {\n",
      "      \"1\": {\n",
      "         \"circulating_supply\": 19080712,\n",
      "         \"id\": 1,\n",
      "         \"last_updated\": 1656545334,\n",
      "         \"max_supply\": 21000000,\n",
      "         \"name\": \"Bitcoin\",\n",
      "         \"quotes\": {\n",
      "            \"USD\": {\n",
      "               \"market_cap\": 384026161167,\n",
      "               \"percent_change_1h\": -0.467618125590226,\n",
      "               \"percent_change_24h\": -1.03548555775248,\n",
      "               \"percent_change_7d\": -2.77378009424387,\n",
      "               \"percentage_change_1h\": -0.467618125590226,\n",
      "               \"percentage_change_24h\": -1.03548555775248,\n",
      "               \"percentage_change_7d\": -2.77378009424387,\n",
      "               \"price\": 20127.0,\n",
      "               \"volume_24h\": 20832229777\n",
      "            }\n",
      "         },\n",
      "         \"rank\": 1,\n",
      "         \"symbol\": \"BTC\",\n",
      "         \"total_supply\": 19080712,\n",
      "         \"website_slug\": \"bitcoin\"\n",
      "      }\n",
      "   },\n",
      "   \"metadata\": {\n",
      "      \"error\": null,\n",
      "      \"num_cryptocurrencies\": 3116,\n",
      "      \"timestamp\": 1656545334\n",
      "   }\n",
      "}\n"
     ]
    }
   ],
   "source": [
    "# Using the Python requests library, make an API call to access the current price of BTC\n",
    "btc_response = requests.get(btc_url).json()\n",
    "\n",
    "# Use the json.dumps function to review the response data from the API call\n",
    "# Use the indent and sort_keys parameters to make the response object readable\n",
    "print(json.dumps(btc_response, indent =3, sort_keys=True))\n"
   ]
  },
  {
   "cell_type": "code",
   "execution_count": 49,
   "metadata": {},
   "outputs": [
    {
     "name": "stdout",
     "output_type": "stream",
     "text": [
      "{\n",
      "    \"data\": {\n",
      "        \"1027\": {\n",
      "            \"circulating_supply\": 121347742,\n",
      "            \"id\": 1027,\n",
      "            \"last_updated\": 1656545310,\n",
      "            \"max_supply\": 0,\n",
      "            \"name\": \"Ethereum\",\n",
      "            \"quotes\": {\n",
      "                \"USD\": {\n",
      "                    \"market_cap\": 133482092983,\n",
      "                    \"percent_change_1h\": -1.23996448363882,\n",
      "                    \"percent_change_24h\": -4.46924188693165,\n",
      "                    \"percent_change_7d\": -2.31151574022716,\n",
      "                    \"percentage_change_1h\": -1.23996448363882,\n",
      "                    \"percentage_change_24h\": -4.46924188693165,\n",
      "                    \"percentage_change_7d\": -2.31151574022716,\n",
      "                    \"price\": 1098.57,\n",
      "                    \"volume_24h\": 14816309239\n",
      "                }\n",
      "            },\n",
      "            \"rank\": 2,\n",
      "            \"symbol\": \"ETH\",\n",
      "            \"total_supply\": 121347742,\n",
      "            \"website_slug\": \"ethereum\"\n",
      "        }\n",
      "    },\n",
      "    \"metadata\": {\n",
      "        \"error\": null,\n",
      "        \"num_cryptocurrencies\": 3116,\n",
      "        \"timestamp\": 1656545310\n",
      "    }\n",
      "}\n"
     ]
    }
   ],
   "source": [
    "# Using the Python requests library, make an API call to access the current price ETH\n",
    "eth_response = eth_response = requests.get(eth_url).json()\n",
    "\n",
    "# Use the json.dumps function to review the response data from the API call\n",
    "# Use the indent and sort_keys parameters to make the response object readable\n",
    "print(json.dumps(eth_response, indent=4, sort_keys=True))\n"
   ]
  },
  {
   "cell_type": "markdown",
   "metadata": {},
   "source": [
    "#### Step 3: Navigate the JSON response object to access the current price of each coin, and store each in a variable."
   ]
  },
  {
   "cell_type": "code",
   "execution_count": 51,
   "metadata": {},
   "outputs": [
    {
     "name": "stdout",
     "output_type": "stream",
     "text": [
      "20127.0\n"
     ]
    }
   ],
   "source": [
    "# Navigate the BTC response object to access the current price of BTC\n",
    "btc_price = btc_response['data']['1']['quotes']['USD']['price']\n",
    "\n",
    "# Print the current price of BTC\n",
    "print (btc_price)"
   ]
  },
  {
   "cell_type": "code",
   "execution_count": 52,
   "metadata": {},
   "outputs": [
    {
     "name": "stdout",
     "output_type": "stream",
     "text": [
      "1098.57\n"
     ]
    }
   ],
   "source": [
    "# Navigate the BTC response object to access the current price of ETH\n",
    "eth_price = eth_response['data']['1027']['quotes']['USD']['price']\n",
    "\n",
    "# Print the current price of ETH\n",
    "print (eth_price)"
   ]
  },
  {
   "cell_type": "markdown",
   "metadata": {},
   "source": [
    "### Step 4: Calculate the value, in US dollars, of the current amount of each cryptocurrency and of the entire cryptocurrency wallet."
   ]
  },
  {
   "cell_type": "code",
   "execution_count": 53,
   "metadata": {},
   "outputs": [
    {
     "name": "stdout",
     "output_type": "stream",
     "text": [
      "24152.399999999998\n"
     ]
    }
   ],
   "source": [
    "# Compute the current value of the BTC holding \n",
    "btc_value = btc_coins * btc_price\n",
    "\n",
    "# Print current value of your holding in BTC\n",
    "print(btc_value)"
   ]
  },
  {
   "cell_type": "code",
   "execution_count": 54,
   "metadata": {},
   "outputs": [
    {
     "name": "stdout",
     "output_type": "stream",
     "text": [
      "5822.420999999999\n"
     ]
    }
   ],
   "source": [
    "# Compute the current value of the ETH holding \n",
    "eth_value = eth_coins * eth_price\n",
    "\n",
    "# Print current value of your holding in ETH\n",
    "print(eth_value)"
   ]
  },
  {
   "cell_type": "code",
   "execution_count": 55,
   "metadata": {},
   "outputs": [
    {
     "name": "stdout",
     "output_type": "stream",
     "text": [
      "29974.820999999996\n"
     ]
    }
   ],
   "source": [
    "# Compute the total value of the cryptocurrency wallet\n",
    "# Add the value of the BTC holding to the value of the ETH holding\n",
    "total_crypto_wallet = btc_value + eth_value\n",
    "\n",
    "# Print current cryptocurrency wallet balance\n",
    "print(total_crypto_wallet)"
   ]
  },
  {
   "cell_type": "markdown",
   "metadata": {},
   "source": [
    "### Evaluate the Stock and Bond Holdings by Using the Alpaca SDK\n",
    "\n",
    "In this section, you’ll determine the current value of a member’s stock and bond holdings. You’ll make an API call to Alpaca via the Alpaca SDK to get the current closing prices of the SPDR S&P 500 ETF Trust (ticker: SPY) and of the iShares Core US Aggregate Bond ETF (ticker: AGG). For the prototype, assume that the member holds 110 shares of SPY, which represents the stock portion of their portfolio, and 200 shares of AGG, which represents the bond portion. To do all this, complete the following steps:\n",
    "\n",
    "1. In the `Starter_Code` folder, create an environment file (`.env`) to store the values of your Alpaca API key and Alpaca secret key.\n",
    "\n",
    "2. Set the variables for the Alpaca API and secret keys. Using the Alpaca SDK, create the Alpaca `tradeapi.REST` object. In this object, include the parameters for the Alpaca API key, the secret key, and the version number.\n",
    "\n",
    "3. Set the following parameters for the Alpaca API call:\n",
    "\n",
    "    - `tickers`: Use the tickers for the member’s stock and bond holdings.\n",
    "\n",
    "    - `timeframe`: Use a time frame of one day.\n",
    "\n",
    "    - `start_date` and `end_date`: Use the same date for these parameters, and format them with the date of the previous weekday (or `2020-08-07`). This is because you want the one closing price for the most-recent trading day.\n",
    "\n",
    "4. Get the current closing prices for `SPY` and `AGG` by using the Alpaca `get_bars` function. Format the response as a Pandas DataFrame by including the `df` property at the end of the `get_bars` function.\n",
    "\n",
    "5. Navigating the Alpaca response DataFrame, select the `SPY` and `AGG` closing prices, and store them as variables.\n",
    "\n",
    "6. Calculate the value, in US dollars, of the current amount of shares in each of the stock and bond portions of the portfolio, and print the results.\n"
   ]
  },
  {
   "cell_type": "markdown",
   "metadata": {},
   "source": [
    "#### Review the total number of shares held in both (SPY) and (AGG)."
   ]
  },
  {
   "cell_type": "code",
   "execution_count": 39,
   "metadata": {},
   "outputs": [],
   "source": [
    "# Current amount of shares held in both the stock (SPY) and bond (AGG) portion of the portfolio.\n",
    "spy_shares = 110\n",
    "agg_shares = 200"
   ]
  },
  {
   "cell_type": "markdown",
   "metadata": {},
   "source": [
    "#### Step 1: In the `Starter_Code` folder, create an environment file (`.env`) to store the values of your Alpaca API key and Alpaca secret key."
   ]
  },
  {
   "cell_type": "markdown",
   "metadata": {},
   "source": [
    "#### Step 2: Set the variables for the Alpaca API and secret keys. Using the Alpaca SDK, create the Alpaca `tradeapi.REST` object. In this object, include the parameters for the Alpaca API key, the secret key, and the version number."
   ]
  },
  {
   "cell_type": "code",
   "execution_count": 13,
   "metadata": {},
   "outputs": [
    {
     "name": "stdout",
     "output_type": "stream",
     "text": [
      "<alpaca_trade_api.rest.REST object at 0x7f9f70521250>\n"
     ]
    }
   ],
   "source": [
    "# Set the variables for the Alpaca API and secret keys\n",
    "ALPACA_API_KEY = \"<PKN155VJQUEKA66JRB5O>\"\n",
    "ALPACA_SECRET_KEY = \"<zmgZtwUKOtim5TU6zcBNkMe8N8rPxLjSzmJC4mFq>\"\n",
    "BASE_URL=\"https://paper-api.alpaca.markets\"\n",
    "\n",
    "# Create the Alpaca tradeapi.REST object\n",
    "alpaca = tradeapi.REST(alpaca_api_key, alpaca_secret_key, BASE_URL)\n",
    "\n",
    "print(alpaca)"
   ]
  },
  {
   "cell_type": "markdown",
   "metadata": {},
   "source": [
    "#### Step 3: Set the following parameters for the Alpaca API call:\n",
    "\n",
    "- `tickers`: Use the tickers for the member’s stock and bond holdings.\n",
    "\n",
    "- `timeframe`: Use a time frame of one day.\n",
    "\n",
    "- `start_date` and `end_date`: Use the same date for these parameters, and format them with the date of the previous weekday (or `2020-08-07`). This is because you want the one closing price for the most-recent trading day.\n"
   ]
  },
  {
   "cell_type": "code",
   "execution_count": 17,
   "metadata": {},
   "outputs": [],
   "source": [
    "# Set the tickers for both the bond and stock portion of the portfolio\n",
    "tickers=[\"SPY\", \"AGG\"]\n",
    "\n",
    "# Set timeframe to 1Day\n",
    "timeframe = \"1D\"\n",
    "\n",
    "# Format current date as ISO format\n",
    "# Set both the start and end date at the date of your prior weekday \n",
    "# This will give you the closing price of the previous trading day\n",
    "# Alternatively you can use a start and end date of 2020-08-07\n",
    "start_date = pd.Timestamp(\"2021-09-24\", tz=\"America/New_York\").isoformat()\n",
    "end_date = pd.Timestamp(\"2021-09-24\", tz=\"America/New_York\").isoformat()\n"
   ]
  },
  {
   "cell_type": "markdown",
   "metadata": {},
   "source": [
    "#### Step 4: Get the current closing prices for `SPY` and `AGG` by using the Alpaca `get_bars` function. Format the response as a Pandas DataFrame by including the `df` property at the end of the `get_bars` function."
   ]
  },
  {
   "cell_type": "code",
   "execution_count": 28,
   "metadata": {},
   "outputs": [
    {
     "data": {
      "text/html": [
       "<div>\n",
       "<style scoped>\n",
       "    .dataframe tbody tr th:only-of-type {\n",
       "        vertical-align: middle;\n",
       "    }\n",
       "\n",
       "    .dataframe tbody tr th {\n",
       "        vertical-align: top;\n",
       "    }\n",
       "\n",
       "    .dataframe thead tr th {\n",
       "        text-align: left;\n",
       "    }\n",
       "\n",
       "    .dataframe thead tr:last-of-type th {\n",
       "        text-align: right;\n",
       "    }\n",
       "</style>\n",
       "<table border=\"1\" class=\"dataframe\">\n",
       "  <thead>\n",
       "    <tr>\n",
       "      <th></th>\n",
       "      <th colspan=\"7\" halign=\"left\">AGG</th>\n",
       "      <th colspan=\"7\" halign=\"left\">SPY</th>\n",
       "    </tr>\n",
       "    <tr>\n",
       "      <th></th>\n",
       "      <th>open</th>\n",
       "      <th>high</th>\n",
       "      <th>low</th>\n",
       "      <th>close</th>\n",
       "      <th>volume</th>\n",
       "      <th>trade_count</th>\n",
       "      <th>vwap</th>\n",
       "      <th>open</th>\n",
       "      <th>high</th>\n",
       "      <th>low</th>\n",
       "      <th>close</th>\n",
       "      <th>volume</th>\n",
       "      <th>trade_count</th>\n",
       "      <th>vwap</th>\n",
       "    </tr>\n",
       "    <tr>\n",
       "      <th>timestamp</th>\n",
       "      <th></th>\n",
       "      <th></th>\n",
       "      <th></th>\n",
       "      <th></th>\n",
       "      <th></th>\n",
       "      <th></th>\n",
       "      <th></th>\n",
       "      <th></th>\n",
       "      <th></th>\n",
       "      <th></th>\n",
       "      <th></th>\n",
       "      <th></th>\n",
       "      <th></th>\n",
       "      <th></th>\n",
       "    </tr>\n",
       "  </thead>\n",
       "  <tbody>\n",
       "    <tr>\n",
       "      <th>2021-09-24 04:00:00+00:00</th>\n",
       "      <td>115.5</td>\n",
       "      <td>115.5055</td>\n",
       "      <td>115.319</td>\n",
       "      <td>115.41</td>\n",
       "      <td>4461937</td>\n",
       "      <td>13283</td>\n",
       "      <td>115.40307</td>\n",
       "      <td>441.49</td>\n",
       "      <td>444.67</td>\n",
       "      <td>441.21</td>\n",
       "      <td>443.91</td>\n",
       "      <td>61976903</td>\n",
       "      <td>405612</td>\n",
       "      <td>443.320889</td>\n",
       "    </tr>\n",
       "  </tbody>\n",
       "</table>\n",
       "</div>"
      ],
      "text/plain": [
       "                             AGG                                      \\\n",
       "                            open      high      low   close   volume   \n",
       "timestamp                                                              \n",
       "2021-09-24 04:00:00+00:00  115.5  115.5055  115.319  115.41  4461937   \n",
       "\n",
       "                                                     SPY                  \\\n",
       "                          trade_count       vwap    open    high     low   \n",
       "timestamp                                                                  \n",
       "2021-09-24 04:00:00+00:00       13283  115.40307  441.49  444.67  441.21   \n",
       "\n",
       "                                                                     \n",
       "                            close    volume trade_count        vwap  \n",
       "timestamp                                                            \n",
       "2021-09-24 04:00:00+00:00  443.91  61976903      405612  443.320889  "
      ]
     },
     "execution_count": 28,
     "metadata": {},
     "output_type": "execute_result"
    }
   ],
   "source": [
    "# Use the Alpaca get_bars function to get current closing prices the portfolio\n",
    "# Be sure to set the `df` property after the function to format the response object as a DataFrame\n",
    "portfolio_df = alpaca.get_bars(\n",
    "    tickers,\n",
    "    timeframe,\n",
    "    start = start_date, \n",
    "    end = end_date).df\n",
    "\n",
    "# Reorganize the DataFrame\n",
    "# Separate ticker data\n",
    "agg_df = portfolio_df[portfolio_df['symbol']=='AGG'].drop('symbol',axis=1)\n",
    "spy_df = portfolio_df[portfolio_df['symbol']=='SPY'].drop('symbol',axis=1)\n",
    "\n",
    "# Concatenate the ticker DataFrames\n",
    "merged_df = pd.concat([agg_df,spy_df], axis=1, keys=(\"AGG\",\"SPY\"))\n",
    "\n",
    "# Preview DataFrame\n",
    "merged_df\n"
   ]
  },
  {
   "cell_type": "code",
   "execution_count": 33,
   "metadata": {},
   "outputs": [
    {
     "data": {
      "text/html": [
       "<div>\n",
       "<style scoped>\n",
       "    .dataframe tbody tr th:only-of-type {\n",
       "        vertical-align: middle;\n",
       "    }\n",
       "\n",
       "    .dataframe tbody tr th {\n",
       "        vertical-align: top;\n",
       "    }\n",
       "\n",
       "    .dataframe thead th {\n",
       "        text-align: right;\n",
       "    }\n",
       "</style>\n",
       "<table border=\"1\" class=\"dataframe\">\n",
       "  <thead>\n",
       "    <tr style=\"text-align: right;\">\n",
       "      <th></th>\n",
       "      <th>open</th>\n",
       "      <th>high</th>\n",
       "      <th>low</th>\n",
       "      <th>close</th>\n",
       "      <th>volume</th>\n",
       "      <th>trade_count</th>\n",
       "      <th>vwap</th>\n",
       "      <th>symbol</th>\n",
       "    </tr>\n",
       "    <tr>\n",
       "      <th>timestamp</th>\n",
       "      <th></th>\n",
       "      <th></th>\n",
       "      <th></th>\n",
       "      <th></th>\n",
       "      <th></th>\n",
       "      <th></th>\n",
       "      <th></th>\n",
       "      <th></th>\n",
       "    </tr>\n",
       "  </thead>\n",
       "  <tbody>\n",
       "    <tr>\n",
       "      <th>2021-09-24 04:00:00+00:00</th>\n",
       "      <td>115.50</td>\n",
       "      <td>115.5055</td>\n",
       "      <td>115.319</td>\n",
       "      <td>115.41</td>\n",
       "      <td>4461937</td>\n",
       "      <td>13283</td>\n",
       "      <td>115.403070</td>\n",
       "      <td>AGG</td>\n",
       "    </tr>\n",
       "    <tr>\n",
       "      <th>2021-09-24 04:00:00+00:00</th>\n",
       "      <td>441.49</td>\n",
       "      <td>444.6700</td>\n",
       "      <td>441.210</td>\n",
       "      <td>443.91</td>\n",
       "      <td>61976903</td>\n",
       "      <td>405612</td>\n",
       "      <td>443.320889</td>\n",
       "      <td>SPY</td>\n",
       "    </tr>\n",
       "  </tbody>\n",
       "</table>\n",
       "</div>"
      ],
      "text/plain": [
       "                             open      high      low   close    volume  \\\n",
       "timestamp                                                                \n",
       "2021-09-24 04:00:00+00:00  115.50  115.5055  115.319  115.41   4461937   \n",
       "2021-09-24 04:00:00+00:00  441.49  444.6700  441.210  443.91  61976903   \n",
       "\n",
       "                           trade_count        vwap symbol  \n",
       "timestamp                                                  \n",
       "2021-09-24 04:00:00+00:00        13283  115.403070    AGG  \n",
       "2021-09-24 04:00:00+00:00       405612  443.320889    SPY  "
      ]
     },
     "execution_count": 33,
     "metadata": {},
     "output_type": "execute_result"
    }
   ],
   "source": [
    "portfolio_df#['symbol']"
   ]
  },
  {
   "cell_type": "markdown",
   "metadata": {},
   "source": [
    "#### Step 5: Navigating the Alpaca response DataFrame, select the `SPY` and `AGG` closing prices, and store them as variables."
   ]
  },
  {
   "cell_type": "code",
   "execution_count": 34,
   "metadata": {},
   "outputs": [
    {
     "data": {
      "text/plain": [
       "115.41"
      ]
     },
     "execution_count": 34,
     "metadata": {},
     "output_type": "execute_result"
    }
   ],
   "source": [
    "# Pick AGG and SPY close prices\n",
    "# Create an empty DataFrame for closing prices\n",
    "closing_prices_df = pd.DataFrame()\n",
    "# Access the closing price for AGG from the Alpaca DataFrame\n",
    "# Converting the value to a floating point number\n",
    "\n",
    "closing_prices_df[\"AGG\"] = merged_df[\"AGG\"][\"close\"]\n",
    "agg_close_price = float(closing_prices_df['AGG'])\n",
    "\n",
    "# Print the AGG closing price\n",
    "agg_close_price"
   ]
  },
  {
   "cell_type": "code",
   "execution_count": 36,
   "metadata": {},
   "outputs": [
    {
     "name": "stdout",
     "output_type": "stream",
     "text": [
      "443.91\n"
     ]
    }
   ],
   "source": [
    "# Access the closing price for SPY from the Alpaca DataFrame\n",
    "# Converting the value to a floating point number\n",
    "closing_prices_df[\"SPY\"] = merged_df[\"SPY\"][\"close\"]\n",
    "spy_close_price = float(closing_prices_df['SPY'])\n",
    "\n",
    "# Print the SPY closing price\n",
    "print(spy_close_price)"
   ]
  },
  {
   "cell_type": "markdown",
   "metadata": {},
   "source": [
    "#### Step 6: Calculate the value, in US dollars, of the current amount of shares in each of the stock and bond portions of the portfolio, and print the results."
   ]
  },
  {
   "cell_type": "code",
   "execution_count": 40,
   "metadata": {},
   "outputs": [
    {
     "name": "stdout",
     "output_type": "stream",
     "text": [
      "88782.0\n"
     ]
    }
   ],
   "source": [
    "# Calculate the current value of the bond portion of the portfolio\n",
    "agg_value = agg_shares * agg_close_price\n",
    "\n",
    "# Print the current value of the bond portfolio\n",
    "print(agg_value)\n"
   ]
  },
  {
   "cell_type": "code",
   "execution_count": 41,
   "metadata": {},
   "outputs": [
    {
     "name": "stdout",
     "output_type": "stream",
     "text": [
      "48830.100000000006\n"
     ]
    }
   ],
   "source": [
    "# Calculate the current value of the stock portion of the portfolio\n",
    "spy_value = spy_shares * spy_close_price\n",
    "\n",
    "# Print the current value of the stock portfolio\n",
    "print (spy_value)"
   ]
  },
  {
   "cell_type": "code",
   "execution_count": 42,
   "metadata": {},
   "outputs": [
    {
     "name": "stdout",
     "output_type": "stream",
     "text": [
      "137612.1\n"
     ]
    }
   ],
   "source": [
    "# Calculate the total value of the stock and bond portion of the portfolio\n",
    "total_stocks_bonds = agg_value + spy_value\n",
    "\n",
    "# Print the current balance of the stock and bond portion of the portfolio\n",
    "print(total_stocks_bonds)"
   ]
  },
  {
   "cell_type": "code",
   "execution_count": 56,
   "metadata": {},
   "outputs": [
    {
     "name": "stdout",
     "output_type": "stream",
     "text": [
      "167586.921\n"
     ]
    }
   ],
   "source": [
    "# Calculate the total value of the member's entire savings portfolio\n",
    "# Add the value of the cryptocurrency walled to the value of the total stocks and bonds\n",
    "total_portfolio = total_stocks_bonds + total_crypto_wallet\n",
    "\n",
    "# Print current cryptocurrency wallet balance\n",
    "print(total_portfolio)"
   ]
  },
  {
   "cell_type": "markdown",
   "metadata": {},
   "source": [
    "### Evaluate the Emergency Fund\n",
    "\n",
    "In this section, you’ll use the valuations for the cryptocurrency wallet and for the stock and bond portions of the portfolio to determine if the credit union member has enough savings to build an emergency fund into their financial plan. To do this, complete the following steps:\n",
    "\n",
    "1. Create a Python list named `savings_data` that has two elements. The first element contains the total value of the cryptocurrency wallet. The second element contains the total value of the stock and bond portions of the portfolio.\n",
    "\n",
    "2. Use the `savings_data` list to create a Pandas DataFrame named `savings_df`, and then display this DataFrame. The function to create the DataFrame should take the following three parameters:\n",
    "\n",
    "    - `savings_data`: Use the list that you just created.\n",
    "\n",
    "    - `columns`: Set this parameter equal to a Python list with a single value called `amount`.\n",
    "\n",
    "    - `index`: Set this parameter equal to a Python list with the values of `crypto` and `stock/bond`.\n",
    "\n",
    "3. Use the `savings_df` DataFrame to plot a pie chart that visualizes the composition of the member’s portfolio. The y-axis of the pie chart uses `amount`. Be sure to add a title.\n",
    "\n",
    "4. Using Python, determine if the current portfolio has enough to create an emergency fund as part of the member’s financial plan. Ideally, an emergency fund should equal to three times the member’s monthly income. To do this, implement the following steps:\n",
    "\n",
    "    1. Create a variable named `emergency_fund_value`, and set it equal to three times the value of the member’s `monthly_income` of $12000. (You set this earlier in Part 1).\n",
    "\n",
    "    2. Create a series of three if statements to determine if the member’s total portfolio is large enough to fund the emergency portfolio:\n",
    "\n",
    "        1. If the total portfolio value is greater than the emergency fund value, display a message congratulating the member for having enough money in this fund.\n",
    "\n",
    "        2. Else if the total portfolio value is equal to the emergency fund value, display a message congratulating the member on reaching this important financial goal.\n",
    "\n",
    "        3. Else the total portfolio is less than the emergency fund value, so display a message showing how many dollars away the member is from reaching the goal. (Subtract the total portfolio value from the emergency fund value.)\n"
   ]
  },
  {
   "cell_type": "markdown",
   "metadata": {},
   "source": [
    "#### Step 1: Create a Python list named `savings_data` that has two elements. The first element contains the total value of the cryptocurrency wallet. The second element contains the total value of the stock and bond portions of the portfolio."
   ]
  },
  {
   "cell_type": "code",
   "execution_count": 57,
   "metadata": {},
   "outputs": [
    {
     "name": "stdout",
     "output_type": "stream",
     "text": [
      "[29974.820999999996, 137612.1]\n"
     ]
    }
   ],
   "source": [
    "# Consolidate financial assets data into a Python list\n",
    "savings_data=[total_crypto_wallet, total_stocks_bonds]\n",
    "\n",
    "# Review the Python list savings_data\n",
    "print (savings_data)\n",
    "    "
   ]
  },
  {
   "cell_type": "markdown",
   "metadata": {},
   "source": [
    "#### Step 2: Use the `savings_data` list to create a Pandas DataFrame named `savings_df`, and then display this DataFrame. The function to create the DataFrame should take the following three parameters:\n",
    "\n",
    "- `savings_data`: Use the list that you just created.\n",
    "\n",
    "- `columns`: Set this parameter equal to a Python list with a single value called `amount`.\n",
    "\n",
    "- `index`: Set this parameter equal to a Python list with the values of `crypto` and `stock/bond`.\n"
   ]
  },
  {
   "cell_type": "code",
   "execution_count": 60,
   "metadata": {},
   "outputs": [
    {
     "data": {
      "text/html": [
       "<div>\n",
       "<style scoped>\n",
       "    .dataframe tbody tr th:only-of-type {\n",
       "        vertical-align: middle;\n",
       "    }\n",
       "\n",
       "    .dataframe tbody tr th {\n",
       "        vertical-align: top;\n",
       "    }\n",
       "\n",
       "    .dataframe thead th {\n",
       "        text-align: right;\n",
       "    }\n",
       "</style>\n",
       "<table border=\"1\" class=\"dataframe\">\n",
       "  <thead>\n",
       "    <tr style=\"text-align: right;\">\n",
       "      <th></th>\n",
       "      <th>amount</th>\n",
       "    </tr>\n",
       "  </thead>\n",
       "  <tbody>\n",
       "    <tr>\n",
       "      <th>crypto</th>\n",
       "      <td>29974.821</td>\n",
       "    </tr>\n",
       "    <tr>\n",
       "      <th>stock/bond</th>\n",
       "      <td>137612.100</td>\n",
       "    </tr>\n",
       "  </tbody>\n",
       "</table>\n",
       "</div>"
      ],
      "text/plain": [
       "                amount\n",
       "crypto       29974.821\n",
       "stock/bond  137612.100"
      ]
     },
     "execution_count": 60,
     "metadata": {},
     "output_type": "execute_result"
    }
   ],
   "source": [
    "# Create a Pandas DataFrame called savings_df \n",
    "savings_df=pd.DataFrame(savings_data, columns=['amount'], index=['crypto', 'stock/bond'])\n",
    "\n",
    "# Display the savings_df DataFrame\n",
    "savings_df"
   ]
  },
  {
   "cell_type": "markdown",
   "metadata": {},
   "source": [
    "#### Step 3: Use the `savings_df` DataFrame to plot a pie chart that visualizes the composition of the member’s portfolio. The y-axis of the pie chart uses `amount`. Be sure to add a title."
   ]
  },
  {
   "cell_type": "code",
   "execution_count": 61,
   "metadata": {},
   "outputs": [
    {
     "data": {
      "text/plain": [
       "<AxesSubplot:title={'center':'Portfolio Composition'}, ylabel='amount'>"
      ]
     },
     "execution_count": 61,
     "metadata": {},
     "output_type": "execute_result"
    },
    {
     "data": {
      "image/png": "[encoded data removed]",
      "text/plain": [
       "<Figure size 720x360 with 1 Axes>"
      ]
     },
     "metadata": {},
     "output_type": "display_data"
    }
   ],
   "source": [
    "# Plot the total value of the member's portfolio (crypto and stock/bond) in a pie chart\n",
    "savings_df.plot.pie(y='amount', title='Portfolio Composition', figsize=(10,5))\n"
   ]
  },
  {
   "cell_type": "markdown",
   "metadata": {},
   "source": [
    "#### Step 4: Using Python, determine if the current portfolio has enough to create an emergency fund as part of the member’s financial plan. Ideally, an emergency fund should equal to three times the member’s monthly income. To do this, implement the following steps:\n",
    "\n",
    "Step 1. Create a variable named `emergency_fund_value`, and set it equal to three times the value of the member’s `monthly_income` of 12000. (You set this earlier in Part 1).\n",
    "\n",
    "Step 2. Create a series of three if statements to determine if the member’s total portfolio is large enough to fund the emergency portfolio:\n",
    "\n",
    "* If the total portfolio value is greater than the emergency fund value, display a message congratulating the member for having enough money in this fund.\n",
    "\n",
    "* Else if the total portfolio value is equal to the emergency fund value, display a message congratulating the member on reaching this important financial goal.\n",
    "\n",
    "* Else the total portfolio is less than the emergency fund value, so display a message showing how many dollars away the member is from reaching the goal. (Subtract the total portfolio value from the emergency fund value.)\n"
   ]
  },
  {
   "cell_type": "markdown",
   "metadata": {},
   "source": [
    "##### Step 4-1: Create a variable named `emergency_fund_value`, and set it equal to three times the value of the member’s `monthly_income` of 12000. (You set this earlier in Part 1)."
   ]
  },
  {
   "cell_type": "code",
   "execution_count": 62,
   "metadata": {},
   "outputs": [],
   "source": [
    "# Create a variable named emergency_fund_value\n",
    "emergency_fund_value=3*monthly_income\n"
   ]
  },
  {
   "cell_type": "markdown",
   "metadata": {},
   "source": [
    "##### Step 4-2: Create a series of three if statements to determine if the member’s total portfolio is large enough to fund the emergency portfolio:\n",
    "\n",
    "* If the total portfolio value is greater than the emergency fund value, display a message congratulating the member for having enough money in this fund.\n",
    "\n",
    "* Else if the total portfolio value is equal to the emergency fund value, display a message congratulating the member on reaching this important financial goal.\n",
    "\n",
    "* Else the total portfolio is less than the emergency fund value, so display a message showing how many dollars away the member is from reaching the goal. (Subtract the total portfolio value from the emergency fund value.)"
   ]
  },
  {
   "cell_type": "code",
   "execution_count": 64,
   "metadata": {},
   "outputs": [
    {
     "name": "stdout",
     "output_type": "stream",
     "text": [
      "Congratulations! You have enough money in your portfolio.\n"
     ]
    }
   ],
   "source": [
    "# Evaluate the possibility of creating an emergency fund with 3 conditions:\n",
    "if total_portfolio > emergency_fund_value:\n",
    "    print(\"Congratulations! You have enough money in your portfolio.\")\n",
    "elif total_portfolio == emergency_fund_value:\n",
    "    print(\"Congratulations! You have met your emergency fund goal.\")\n",
    "elif total_portfolio < emergency_fund_value:\n",
    "    print(f\"You are ${emergency_fund_value - total_portfolio} away from your goal\")\n"
   ]
  },
  {
   "cell_type": "markdown",
   "metadata": {},
   "source": [
    "## Part 2: Create a Financial Planner for Retirement"
   ]
  },
  {
   "cell_type": "markdown",
   "metadata": {},
   "source": [
    "### Create the Monte Carlo Simulation\n",
    "\n",
    "In this section, you’ll use the MCForecastTools library to create a Monte Carlo simulation for the member’s savings portfolio. To do this, complete the following steps:\n",
    "\n",
    "1. Make an API call via the Alpaca SDK to get 3 years of historical closing prices for a traditional 60/40 portfolio split: 60% stocks (SPY) and 40% bonds (AGG).\n",
    "\n",
    "2. Run a Monte Carlo simulation of 500 samples and 30 years for the 60/40 portfolio, and then plot the results.The following image shows the overlay line plot resulting from a simulation with these characteristics. However, because a random number generator is used to run each live Monte Carlo simulation, your image will differ slightly from this exact image:\n",
    "\n",
    "![A screenshot depicts the resulting plot.](Images/5-4-monte-carlo-line-plot.png)\n",
    "\n",
    "3. Plot the probability distribution of the Monte Carlo simulation. Plot the probability distribution of the Monte Carlo simulation. The following image shows the histogram plot resulting from a simulation with these characteristics. However, because a random number generator is used to run each live Monte Carlo simulation, your image will differ slightly from this exact image:\n",
    "\n",
    "![A screenshot depicts the histogram plot.](Images/5-4-monte-carlo-histogram.png)\n",
    "\n",
    "4. Generate the summary statistics for the Monte Carlo simulation.\n",
    "\n"
   ]
  },
  {
   "cell_type": "markdown",
   "metadata": {},
   "source": [
    "#### Step 1: Make an API call via the Alpaca SDK to get 3 years of historical closing prices for a traditional 60/40 portfolio split: 60% stocks (SPY) and 40% bonds (AGG)."
   ]
  },
  {
   "cell_type": "code",
   "execution_count": 65,
   "metadata": {},
   "outputs": [],
   "source": [
    "# Set start and end dates of 3 years back from your current date\n",
    "# Alternatively, you can use an end date of 2020-08-07 and work 3 years back from that date \n",
    "start_date = pd.Timestamp(\"2018-09-24\", tz=\"America/New_York\").isoformat()\n",
    "end_date = pd.Timestamp(\"2021-09-24\", tz=\"America/New_York\").isoformat()"
   ]
  },
  {
   "cell_type": "code",
   "execution_count": 80,
   "metadata": {},
   "outputs": [
    {
     "data": {
      "text/html": [
       "<div>\n",
       "<style scoped>\n",
       "    .dataframe tbody tr th:only-of-type {\n",
       "        vertical-align: middle;\n",
       "    }\n",
       "\n",
       "    .dataframe tbody tr th {\n",
       "        vertical-align: top;\n",
       "    }\n",
       "\n",
       "    .dataframe thead th {\n",
       "        text-align: right;\n",
       "    }\n",
       "</style>\n",
       "<table border=\"1\" class=\"dataframe\">\n",
       "  <thead>\n",
       "    <tr style=\"text-align: right;\">\n",
       "      <th></th>\n",
       "      <th>open</th>\n",
       "      <th>high</th>\n",
       "      <th>low</th>\n",
       "      <th>close</th>\n",
       "      <th>volume</th>\n",
       "      <th>trade_count</th>\n",
       "      <th>vwap</th>\n",
       "      <th>symbol</th>\n",
       "    </tr>\n",
       "    <tr>\n",
       "      <th>timestamp</th>\n",
       "      <th></th>\n",
       "      <th></th>\n",
       "      <th></th>\n",
       "      <th></th>\n",
       "      <th></th>\n",
       "      <th></th>\n",
       "      <th></th>\n",
       "      <th></th>\n",
       "    </tr>\n",
       "  </thead>\n",
       "  <tbody>\n",
       "    <tr>\n",
       "      <th>2018-09-24 04:00:00+00:00</th>\n",
       "      <td>105.33</td>\n",
       "      <td>105.46</td>\n",
       "      <td>105.3101</td>\n",
       "      <td>105.36</td>\n",
       "      <td>1895105</td>\n",
       "      <td>8343</td>\n",
       "      <td>105.378141</td>\n",
       "      <td>AGG</td>\n",
       "    </tr>\n",
       "    <tr>\n",
       "      <th>2018-09-25 04:00:00+00:00</th>\n",
       "      <td>105.25</td>\n",
       "      <td>105.31</td>\n",
       "      <td>105.1800</td>\n",
       "      <td>105.31</td>\n",
       "      <td>2059394</td>\n",
       "      <td>8978</td>\n",
       "      <td>105.250925</td>\n",
       "      <td>AGG</td>\n",
       "    </tr>\n",
       "    <tr>\n",
       "      <th>2018-09-26 04:00:00+00:00</th>\n",
       "      <td>105.37</td>\n",
       "      <td>105.60</td>\n",
       "      <td>105.3350</td>\n",
       "      <td>105.56</td>\n",
       "      <td>2912060</td>\n",
       "      <td>10663</td>\n",
       "      <td>105.466971</td>\n",
       "      <td>AGG</td>\n",
       "    </tr>\n",
       "    <tr>\n",
       "      <th>2018-09-27 04:00:00+00:00</th>\n",
       "      <td>105.50</td>\n",
       "      <td>105.64</td>\n",
       "      <td>105.5000</td>\n",
       "      <td>105.63</td>\n",
       "      <td>2528233</td>\n",
       "      <td>10665</td>\n",
       "      <td>105.573432</td>\n",
       "      <td>AGG</td>\n",
       "    </tr>\n",
       "    <tr>\n",
       "      <th>2018-09-28 04:00:00+00:00</th>\n",
       "      <td>105.69</td>\n",
       "      <td>105.71</td>\n",
       "      <td>105.5100</td>\n",
       "      <td>105.52</td>\n",
       "      <td>4883958</td>\n",
       "      <td>15703</td>\n",
       "      <td>105.582785</td>\n",
       "      <td>AGG</td>\n",
       "    </tr>\n",
       "  </tbody>\n",
       "</table>\n",
       "</div>"
      ],
      "text/plain": [
       "                             open    high       low   close   volume  \\\n",
       "timestamp                                                              \n",
       "2018-09-24 04:00:00+00:00  105.33  105.46  105.3101  105.36  1895105   \n",
       "2018-09-25 04:00:00+00:00  105.25  105.31  105.1800  105.31  2059394   \n",
       "2018-09-26 04:00:00+00:00  105.37  105.60  105.3350  105.56  2912060   \n",
       "2018-09-27 04:00:00+00:00  105.50  105.64  105.5000  105.63  2528233   \n",
       "2018-09-28 04:00:00+00:00  105.69  105.71  105.5100  105.52  4883958   \n",
       "\n",
       "                           trade_count        vwap symbol  \n",
       "timestamp                                                  \n",
       "2018-09-24 04:00:00+00:00         8343  105.378141    AGG  \n",
       "2018-09-25 04:00:00+00:00         8978  105.250925    AGG  \n",
       "2018-09-26 04:00:00+00:00        10663  105.466971    AGG  \n",
       "2018-09-27 04:00:00+00:00        10665  105.573432    AGG  \n",
       "2018-09-28 04:00:00+00:00        15703  105.582785    AGG  "
      ]
     },
     "metadata": {},
     "output_type": "display_data"
    },
    {
     "data": {
      "text/html": [
       "<div>\n",
       "<style scoped>\n",
       "    .dataframe tbody tr th:only-of-type {\n",
       "        vertical-align: middle;\n",
       "    }\n",
       "\n",
       "    .dataframe tbody tr th {\n",
       "        vertical-align: top;\n",
       "    }\n",
       "\n",
       "    .dataframe thead th {\n",
       "        text-align: right;\n",
       "    }\n",
       "</style>\n",
       "<table border=\"1\" class=\"dataframe\">\n",
       "  <thead>\n",
       "    <tr style=\"text-align: right;\">\n",
       "      <th></th>\n",
       "      <th>open</th>\n",
       "      <th>high</th>\n",
       "      <th>low</th>\n",
       "      <th>close</th>\n",
       "      <th>volume</th>\n",
       "      <th>trade_count</th>\n",
       "      <th>vwap</th>\n",
       "      <th>symbol</th>\n",
       "    </tr>\n",
       "    <tr>\n",
       "      <th>timestamp</th>\n",
       "      <th></th>\n",
       "      <th></th>\n",
       "      <th></th>\n",
       "      <th></th>\n",
       "      <th></th>\n",
       "      <th></th>\n",
       "      <th></th>\n",
       "      <th></th>\n",
       "    </tr>\n",
       "  </thead>\n",
       "  <tbody>\n",
       "    <tr>\n",
       "      <th>2021-09-20 04:00:00+00:00</th>\n",
       "      <td>434.91</td>\n",
       "      <td>436.56</td>\n",
       "      <td>428.860</td>\n",
       "      <td>434.04</td>\n",
       "      <td>166427168</td>\n",
       "      <td>1159041</td>\n",
       "      <td>433.601591</td>\n",
       "      <td>SPY</td>\n",
       "    </tr>\n",
       "    <tr>\n",
       "      <th>2021-09-21 04:00:00+00:00</th>\n",
       "      <td>436.63</td>\n",
       "      <td>437.91</td>\n",
       "      <td>433.070</td>\n",
       "      <td>433.63</td>\n",
       "      <td>92733633</td>\n",
       "      <td>688209</td>\n",
       "      <td>435.139059</td>\n",
       "      <td>SPY</td>\n",
       "    </tr>\n",
       "    <tr>\n",
       "      <th>2021-09-22 04:00:00+00:00</th>\n",
       "      <td>436.06</td>\n",
       "      <td>440.03</td>\n",
       "      <td>433.747</td>\n",
       "      <td>437.86</td>\n",
       "      <td>101725345</td>\n",
       "      <td>770545</td>\n",
       "      <td>437.900275</td>\n",
       "      <td>SPY</td>\n",
       "    </tr>\n",
       "    <tr>\n",
       "      <th>2021-09-23 04:00:00+00:00</th>\n",
       "      <td>439.82</td>\n",
       "      <td>444.89</td>\n",
       "      <td>439.600</td>\n",
       "      <td>443.18</td>\n",
       "      <td>75697354</td>\n",
       "      <td>555662</td>\n",
       "      <td>442.906097</td>\n",
       "      <td>SPY</td>\n",
       "    </tr>\n",
       "    <tr>\n",
       "      <th>2021-09-24 04:00:00+00:00</th>\n",
       "      <td>441.49</td>\n",
       "      <td>444.67</td>\n",
       "      <td>441.210</td>\n",
       "      <td>443.91</td>\n",
       "      <td>61976903</td>\n",
       "      <td>405612</td>\n",
       "      <td>443.320889</td>\n",
       "      <td>SPY</td>\n",
       "    </tr>\n",
       "  </tbody>\n",
       "</table>\n",
       "</div>"
      ],
      "text/plain": [
       "                             open    high      low   close     volume  \\\n",
       "timestamp                                                               \n",
       "2021-09-20 04:00:00+00:00  434.91  436.56  428.860  434.04  166427168   \n",
       "2021-09-21 04:00:00+00:00  436.63  437.91  433.070  433.63   92733633   \n",
       "2021-09-22 04:00:00+00:00  436.06  440.03  433.747  437.86  101725345   \n",
       "2021-09-23 04:00:00+00:00  439.82  444.89  439.600  443.18   75697354   \n",
       "2021-09-24 04:00:00+00:00  441.49  444.67  441.210  443.91   61976903   \n",
       "\n",
       "                           trade_count        vwap symbol  \n",
       "timestamp                                                  \n",
       "2021-09-20 04:00:00+00:00      1159041  433.601591    SPY  \n",
       "2021-09-21 04:00:00+00:00       688209  435.139059    SPY  \n",
       "2021-09-22 04:00:00+00:00       770545  437.900275    SPY  \n",
       "2021-09-23 04:00:00+00:00       555662  442.906097    SPY  \n",
       "2021-09-24 04:00:00+00:00       405612  443.320889    SPY  "
      ]
     },
     "metadata": {},
     "output_type": "display_data"
    }
   ],
   "source": [
    "# Use the Alpaca get_bars function to make the API call to get the 3 years worth of pricing data\n",
    "# The tickers and timeframe parameters should have been set in Part 1 of this activity \n",
    "# The start and end dates should be updated with the information set above\n",
    "# Remember to add the df property to the end of the call so the response is returned as a DataFrame\n",
    "prices_df = alpaca.get_bars(\n",
    "    tickers,\n",
    "    timeframe,\n",
    "    start=start_date,\n",
    "    end=end_date).df\n",
    "\n",
    "# Reorganize the DataFrame\n",
    "# Separate ticker data\n",
    "agg_3 = prices_df[prices_df['symbol']=='AGG'].drop('symbol',axis=1)\n",
    "spy_3 = prices_df[prices_df['symbol']=='SPY'].drop('symbol',axis=1)\n",
    "\n",
    "# Concatenate the ticker DataFrames\n",
    "ticker_df = pd.concat([agg_3,spy_3], axis=1, keys=(\"AGG\",\"SPY\"))\n",
    "\n",
    "# Display both the first and last five rows of the DataFrame\n",
    "display(prices_df.head())\n",
    "display(prices_df.tail())\n"
   ]
  },
  {
   "cell_type": "markdown",
   "metadata": {},
   "source": [
    "#### Step 2: Run a Monte Carlo simulation of 500 samples and 30 years for the 60/40 portfolio, and then plot the results."
   ]
  },
  {
   "cell_type": "code",
   "execution_count": 84,
   "metadata": {},
   "outputs": [
    {
     "data": {
      "text/html": [
       "<div>\n",
       "<style scoped>\n",
       "    .dataframe tbody tr th:only-of-type {\n",
       "        vertical-align: middle;\n",
       "    }\n",
       "\n",
       "    .dataframe tbody tr th {\n",
       "        vertical-align: top;\n",
       "    }\n",
       "\n",
       "    .dataframe thead tr th {\n",
       "        text-align: left;\n",
       "    }\n",
       "\n",
       "    .dataframe thead tr:last-of-type th {\n",
       "        text-align: right;\n",
       "    }\n",
       "</style>\n",
       "<table border=\"1\" class=\"dataframe\">\n",
       "  <thead>\n",
       "    <tr>\n",
       "      <th></th>\n",
       "      <th colspan=\"8\" halign=\"left\">AGG</th>\n",
       "      <th colspan=\"8\" halign=\"left\">SPY</th>\n",
       "    </tr>\n",
       "    <tr>\n",
       "      <th></th>\n",
       "      <th>open</th>\n",
       "      <th>high</th>\n",
       "      <th>low</th>\n",
       "      <th>close</th>\n",
       "      <th>volume</th>\n",
       "      <th>trade_count</th>\n",
       "      <th>vwap</th>\n",
       "      <th>daily_return</th>\n",
       "      <th>open</th>\n",
       "      <th>high</th>\n",
       "      <th>low</th>\n",
       "      <th>close</th>\n",
       "      <th>volume</th>\n",
       "      <th>trade_count</th>\n",
       "      <th>vwap</th>\n",
       "      <th>daily_return</th>\n",
       "    </tr>\n",
       "    <tr>\n",
       "      <th>timestamp</th>\n",
       "      <th></th>\n",
       "      <th></th>\n",
       "      <th></th>\n",
       "      <th></th>\n",
       "      <th></th>\n",
       "      <th></th>\n",
       "      <th></th>\n",
       "      <th></th>\n",
       "      <th></th>\n",
       "      <th></th>\n",
       "      <th></th>\n",
       "      <th></th>\n",
       "      <th></th>\n",
       "      <th></th>\n",
       "      <th></th>\n",
       "      <th></th>\n",
       "    </tr>\n",
       "  </thead>\n",
       "  <tbody>\n",
       "    <tr>\n",
       "      <th>2018-09-24 04:00:00+00:00</th>\n",
       "      <td>105.33</td>\n",
       "      <td>105.46</td>\n",
       "      <td>105.3101</td>\n",
       "      <td>105.36</td>\n",
       "      <td>1895105</td>\n",
       "      <td>8343</td>\n",
       "      <td>105.378141</td>\n",
       "      <td>NaN</td>\n",
       "      <td>291.41</td>\n",
       "      <td>291.50</td>\n",
       "      <td>290.3700</td>\n",
       "      <td>291.02</td>\n",
       "      <td>54024894</td>\n",
       "      <td>233335</td>\n",
       "      <td>291.001935</td>\n",
       "      <td>NaN</td>\n",
       "    </tr>\n",
       "    <tr>\n",
       "      <th>2018-09-25 04:00:00+00:00</th>\n",
       "      <td>105.25</td>\n",
       "      <td>105.31</td>\n",
       "      <td>105.1800</td>\n",
       "      <td>105.31</td>\n",
       "      <td>2059394</td>\n",
       "      <td>8978</td>\n",
       "      <td>105.250925</td>\n",
       "      <td>-0.000475</td>\n",
       "      <td>291.53</td>\n",
       "      <td>291.65</td>\n",
       "      <td>290.4833</td>\n",
       "      <td>290.75</td>\n",
       "      <td>44471638</td>\n",
       "      <td>175808</td>\n",
       "      <td>290.968864</td>\n",
       "      <td>-0.000928</td>\n",
       "    </tr>\n",
       "    <tr>\n",
       "      <th>2018-09-26 04:00:00+00:00</th>\n",
       "      <td>105.37</td>\n",
       "      <td>105.60</td>\n",
       "      <td>105.3350</td>\n",
       "      <td>105.56</td>\n",
       "      <td>2912060</td>\n",
       "      <td>10663</td>\n",
       "      <td>105.466971</td>\n",
       "      <td>0.002374</td>\n",
       "      <td>290.89</td>\n",
       "      <td>292.24</td>\n",
       "      <td>289.4100</td>\n",
       "      <td>289.88</td>\n",
       "      <td>79789674</td>\n",
       "      <td>298739</td>\n",
       "      <td>290.681216</td>\n",
       "      <td>-0.002992</td>\n",
       "    </tr>\n",
       "    <tr>\n",
       "      <th>2018-09-27 04:00:00+00:00</th>\n",
       "      <td>105.50</td>\n",
       "      <td>105.64</td>\n",
       "      <td>105.5000</td>\n",
       "      <td>105.63</td>\n",
       "      <td>2528233</td>\n",
       "      <td>10665</td>\n",
       "      <td>105.573432</td>\n",
       "      <td>0.000663</td>\n",
       "      <td>290.41</td>\n",
       "      <td>291.91</td>\n",
       "      <td>290.1000</td>\n",
       "      <td>290.69</td>\n",
       "      <td>59472319</td>\n",
       "      <td>238702</td>\n",
       "      <td>290.901482</td>\n",
       "      <td>0.002794</td>\n",
       "    </tr>\n",
       "    <tr>\n",
       "      <th>2018-09-28 04:00:00+00:00</th>\n",
       "      <td>105.69</td>\n",
       "      <td>105.71</td>\n",
       "      <td>105.5100</td>\n",
       "      <td>105.52</td>\n",
       "      <td>4883958</td>\n",
       "      <td>15703</td>\n",
       "      <td>105.582785</td>\n",
       "      <td>-0.001041</td>\n",
       "      <td>290.01</td>\n",
       "      <td>291.28</td>\n",
       "      <td>289.9500</td>\n",
       "      <td>290.72</td>\n",
       "      <td>70091460</td>\n",
       "      <td>267815</td>\n",
       "      <td>290.599861</td>\n",
       "      <td>0.000103</td>\n",
       "    </tr>\n",
       "  </tbody>\n",
       "</table>\n",
       "</div>"
      ],
      "text/plain": [
       "                              AGG                                     \\\n",
       "                             open    high       low   close   volume   \n",
       "timestamp                                                              \n",
       "2018-09-24 04:00:00+00:00  105.33  105.46  105.3101  105.36  1895105   \n",
       "2018-09-25 04:00:00+00:00  105.25  105.31  105.1800  105.31  2059394   \n",
       "2018-09-26 04:00:00+00:00  105.37  105.60  105.3350  105.56  2912060   \n",
       "2018-09-27 04:00:00+00:00  105.50  105.64  105.5000  105.63  2528233   \n",
       "2018-09-28 04:00:00+00:00  105.69  105.71  105.5100  105.52  4883958   \n",
       "\n",
       "                                                                   SPY  \\\n",
       "                          trade_count        vwap daily_return    open   \n",
       "timestamp                                                                \n",
       "2018-09-24 04:00:00+00:00        8343  105.378141          NaN  291.41   \n",
       "2018-09-25 04:00:00+00:00        8978  105.250925    -0.000475  291.53   \n",
       "2018-09-26 04:00:00+00:00       10663  105.466971     0.002374  290.89   \n",
       "2018-09-27 04:00:00+00:00       10665  105.573432     0.000663  290.41   \n",
       "2018-09-28 04:00:00+00:00       15703  105.582785    -0.001041  290.01   \n",
       "\n",
       "                                                                           \\\n",
       "                             high       low   close    volume trade_count   \n",
       "timestamp                                                                   \n",
       "2018-09-24 04:00:00+00:00  291.50  290.3700  291.02  54024894      233335   \n",
       "2018-09-25 04:00:00+00:00  291.65  290.4833  290.75  44471638      175808   \n",
       "2018-09-26 04:00:00+00:00  292.24  289.4100  289.88  79789674      298739   \n",
       "2018-09-27 04:00:00+00:00  291.91  290.1000  290.69  59472319      238702   \n",
       "2018-09-28 04:00:00+00:00  291.28  289.9500  290.72  70091460      267815   \n",
       "\n",
       "                                                    \n",
       "                                 vwap daily_return  \n",
       "timestamp                                           \n",
       "2018-09-24 04:00:00+00:00  291.001935          NaN  \n",
       "2018-09-25 04:00:00+00:00  290.968864    -0.000928  \n",
       "2018-09-26 04:00:00+00:00  290.681216    -0.002992  \n",
       "2018-09-27 04:00:00+00:00  290.901482     0.002794  \n",
       "2018-09-28 04:00:00+00:00  290.599861     0.000103  "
      ]
     },
     "execution_count": 84,
     "metadata": {},
     "output_type": "execute_result"
    }
   ],
   "source": [
    "# Configure the Monte Carlo simulation to forecast 30 years cumulative returns\n",
    "# The weights should be split 40% to AGG and 60% to SPY.\n",
    "# Run 500 samples.\n",
    "MC_30yr = MCSimulation(\n",
    "    portfolio_data = ticker_df,\n",
    "    weights = [.40, .60],\n",
    "    num_simulation = 500,\n",
    "    num_trading_days = 252 * 30)\n",
    "\n",
    "# Review the simulation input data\n",
    "MC_30yr.portfolio_data.head()"
   ]
  },
  {
   "cell_type": "code",
   "execution_count": 85,
   "metadata": {},
   "outputs": [
    {
     "name": "stdout",
     "output_type": "stream",
     "text": [
      "Running Monte Carlo simulation number 0.\n",
      "Running Monte Carlo simulation number 10.\n",
      "Running Monte Carlo simulation number 20.\n",
      "Running Monte Carlo simulation number 30.\n",
      "Running Monte Carlo simulation number 40.\n"
     ]
    },
    {
     "data": {
      "text/html": [
       "<div>\n",
       "<style scoped>\n",
       "    .dataframe tbody tr th:only-of-type {\n",
       "        vertical-align: middle;\n",
       "    }\n",
       "\n",
       "    .dataframe tbody tr th {\n",
       "        vertical-align: top;\n",
       "    }\n",
       "\n",
       "    .dataframe thead th {\n",
       "        text-align: right;\n",
       "    }\n",
       "</style>\n",
       "<table border=\"1\" class=\"dataframe\">\n",
       "  <thead>\n",
       "    <tr style=\"text-align: right;\">\n",
       "      <th></th>\n",
       "      <th>0</th>\n",
       "      <th>1</th>\n",
       "      <th>2</th>\n",
       "      <th>3</th>\n",
       "      <th>4</th>\n",
       "      <th>5</th>\n",
       "      <th>6</th>\n",
       "      <th>7</th>\n",
       "      <th>8</th>\n",
       "      <th>9</th>\n",
       "      <th>...</th>\n",
       "      <th>40</th>\n",
       "      <th>41</th>\n",
       "      <th>42</th>\n",
       "      <th>43</th>\n",
       "      <th>44</th>\n",
       "      <th>45</th>\n",
       "      <th>46</th>\n",
       "      <th>47</th>\n",
       "      <th>48</th>\n",
       "      <th>49</th>\n",
       "    </tr>\n",
       "  </thead>\n",
       "  <tbody>\n",
       "    <tr>\n",
       "      <th>0</th>\n",
       "      <td>1.000000</td>\n",
       "      <td>1.000000</td>\n",
       "      <td>1.000000</td>\n",
       "      <td>1.000000</td>\n",
       "      <td>1.000000</td>\n",
       "      <td>1.000000</td>\n",
       "      <td>1.000000</td>\n",
       "      <td>1.000000</td>\n",
       "      <td>1.000000</td>\n",
       "      <td>1.000000</td>\n",
       "      <td>...</td>\n",
       "      <td>1.000000</td>\n",
       "      <td>1.000000</td>\n",
       "      <td>1.000000</td>\n",
       "      <td>1.000000</td>\n",
       "      <td>1.000000</td>\n",
       "      <td>1.000000</td>\n",
       "      <td>1.000000</td>\n",
       "      <td>1.000000</td>\n",
       "      <td>1.000000</td>\n",
       "      <td>1.000000</td>\n",
       "    </tr>\n",
       "    <tr>\n",
       "      <th>1</th>\n",
       "      <td>1.010802</td>\n",
       "      <td>0.985602</td>\n",
       "      <td>0.996912</td>\n",
       "      <td>1.006209</td>\n",
       "      <td>1.004209</td>\n",
       "      <td>1.004943</td>\n",
       "      <td>1.012439</td>\n",
       "      <td>0.990832</td>\n",
       "      <td>1.004034</td>\n",
       "      <td>0.996536</td>\n",
       "      <td>...</td>\n",
       "      <td>0.998691</td>\n",
       "      <td>1.006224</td>\n",
       "      <td>1.013381</td>\n",
       "      <td>0.985074</td>\n",
       "      <td>0.993862</td>\n",
       "      <td>1.000298</td>\n",
       "      <td>1.014243</td>\n",
       "      <td>1.014189</td>\n",
       "      <td>0.997497</td>\n",
       "      <td>1.006085</td>\n",
       "    </tr>\n",
       "    <tr>\n",
       "      <th>2</th>\n",
       "      <td>1.023762</td>\n",
       "      <td>0.981676</td>\n",
       "      <td>1.008717</td>\n",
       "      <td>0.998714</td>\n",
       "      <td>1.003843</td>\n",
       "      <td>0.999878</td>\n",
       "      <td>1.024483</td>\n",
       "      <td>1.012946</td>\n",
       "      <td>0.992129</td>\n",
       "      <td>0.993229</td>\n",
       "      <td>...</td>\n",
       "      <td>0.992828</td>\n",
       "      <td>1.009030</td>\n",
       "      <td>1.015010</td>\n",
       "      <td>0.988525</td>\n",
       "      <td>0.993017</td>\n",
       "      <td>0.988170</td>\n",
       "      <td>1.019739</td>\n",
       "      <td>1.022817</td>\n",
       "      <td>0.998459</td>\n",
       "      <td>1.015030</td>\n",
       "    </tr>\n",
       "    <tr>\n",
       "      <th>3</th>\n",
       "      <td>1.039770</td>\n",
       "      <td>0.979801</td>\n",
       "      <td>1.003805</td>\n",
       "      <td>1.002345</td>\n",
       "      <td>1.012291</td>\n",
       "      <td>0.995131</td>\n",
       "      <td>1.021465</td>\n",
       "      <td>1.011981</td>\n",
       "      <td>0.986555</td>\n",
       "      <td>1.007591</td>\n",
       "      <td>...</td>\n",
       "      <td>0.988410</td>\n",
       "      <td>1.019222</td>\n",
       "      <td>1.008133</td>\n",
       "      <td>0.993833</td>\n",
       "      <td>0.994335</td>\n",
       "      <td>0.979609</td>\n",
       "      <td>1.022973</td>\n",
       "      <td>1.027897</td>\n",
       "      <td>1.006156</td>\n",
       "      <td>1.015423</td>\n",
       "    </tr>\n",
       "    <tr>\n",
       "      <th>4</th>\n",
       "      <td>1.033534</td>\n",
       "      <td>0.973929</td>\n",
       "      <td>1.001325</td>\n",
       "      <td>0.995977</td>\n",
       "      <td>1.011328</td>\n",
       "      <td>1.002928</td>\n",
       "      <td>1.017002</td>\n",
       "      <td>1.023722</td>\n",
       "      <td>0.986880</td>\n",
       "      <td>1.004701</td>\n",
       "      <td>...</td>\n",
       "      <td>0.972662</td>\n",
       "      <td>1.016620</td>\n",
       "      <td>1.014785</td>\n",
       "      <td>0.987563</td>\n",
       "      <td>0.988879</td>\n",
       "      <td>0.974608</td>\n",
       "      <td>1.032017</td>\n",
       "      <td>1.026029</td>\n",
       "      <td>1.009732</td>\n",
       "      <td>1.028470</td>\n",
       "    </tr>\n",
       "    <tr>\n",
       "      <th>...</th>\n",
       "      <td>...</td>\n",
       "      <td>...</td>\n",
       "      <td>...</td>\n",
       "      <td>...</td>\n",
       "      <td>...</td>\n",
       "      <td>...</td>\n",
       "      <td>...</td>\n",
       "      <td>...</td>\n",
       "      <td>...</td>\n",
       "      <td>...</td>\n",
       "      <td>...</td>\n",
       "      <td>...</td>\n",
       "      <td>...</td>\n",
       "      <td>...</td>\n",
       "      <td>...</td>\n",
       "      <td>...</td>\n",
       "      <td>...</td>\n",
       "      <td>...</td>\n",
       "      <td>...</td>\n",
       "      <td>...</td>\n",
       "      <td>...</td>\n",
       "    </tr>\n",
       "    <tr>\n",
       "      <th>7556</th>\n",
       "      <td>4.779681</td>\n",
       "      <td>57.591412</td>\n",
       "      <td>21.613364</td>\n",
       "      <td>24.958145</td>\n",
       "      <td>65.232641</td>\n",
       "      <td>56.323629</td>\n",
       "      <td>17.219020</td>\n",
       "      <td>18.068115</td>\n",
       "      <td>5.804134</td>\n",
       "      <td>44.892718</td>\n",
       "      <td>...</td>\n",
       "      <td>10.623773</td>\n",
       "      <td>18.296373</td>\n",
       "      <td>50.335620</td>\n",
       "      <td>49.249697</td>\n",
       "      <td>28.049187</td>\n",
       "      <td>10.661593</td>\n",
       "      <td>4.481488</td>\n",
       "      <td>89.266344</td>\n",
       "      <td>49.472212</td>\n",
       "      <td>31.536474</td>\n",
       "    </tr>\n",
       "    <tr>\n",
       "      <th>7557</th>\n",
       "      <td>4.762781</td>\n",
       "      <td>57.193475</td>\n",
       "      <td>21.533625</td>\n",
       "      <td>25.566027</td>\n",
       "      <td>64.173927</td>\n",
       "      <td>56.584284</td>\n",
       "      <td>17.196658</td>\n",
       "      <td>18.204889</td>\n",
       "      <td>5.765119</td>\n",
       "      <td>44.998405</td>\n",
       "      <td>...</td>\n",
       "      <td>10.539775</td>\n",
       "      <td>18.075180</td>\n",
       "      <td>50.407339</td>\n",
       "      <td>49.645186</td>\n",
       "      <td>27.898612</td>\n",
       "      <td>10.631462</td>\n",
       "      <td>4.536444</td>\n",
       "      <td>88.208814</td>\n",
       "      <td>50.159066</td>\n",
       "      <td>31.643153</td>\n",
       "    </tr>\n",
       "    <tr>\n",
       "      <th>7558</th>\n",
       "      <td>4.776264</td>\n",
       "      <td>57.678705</td>\n",
       "      <td>21.435154</td>\n",
       "      <td>25.836439</td>\n",
       "      <td>64.267510</td>\n",
       "      <td>57.063665</td>\n",
       "      <td>17.264610</td>\n",
       "      <td>18.111013</td>\n",
       "      <td>5.765622</td>\n",
       "      <td>45.830753</td>\n",
       "      <td>...</td>\n",
       "      <td>10.563804</td>\n",
       "      <td>18.159307</td>\n",
       "      <td>50.339210</td>\n",
       "      <td>48.912078</td>\n",
       "      <td>27.647658</td>\n",
       "      <td>10.610077</td>\n",
       "      <td>4.590532</td>\n",
       "      <td>88.953880</td>\n",
       "      <td>50.634690</td>\n",
       "      <td>31.573141</td>\n",
       "    </tr>\n",
       "    <tr>\n",
       "      <th>7559</th>\n",
       "      <td>4.752205</td>\n",
       "      <td>58.204740</td>\n",
       "      <td>21.185449</td>\n",
       "      <td>25.913647</td>\n",
       "      <td>64.311503</td>\n",
       "      <td>56.796453</td>\n",
       "      <td>17.225414</td>\n",
       "      <td>18.068541</td>\n",
       "      <td>5.753475</td>\n",
       "      <td>45.814602</td>\n",
       "      <td>...</td>\n",
       "      <td>10.523144</td>\n",
       "      <td>18.292632</td>\n",
       "      <td>50.375885</td>\n",
       "      <td>48.870647</td>\n",
       "      <td>27.923869</td>\n",
       "      <td>10.499646</td>\n",
       "      <td>4.663944</td>\n",
       "      <td>89.324493</td>\n",
       "      <td>51.057650</td>\n",
       "      <td>31.664763</td>\n",
       "    </tr>\n",
       "    <tr>\n",
       "      <th>7560</th>\n",
       "      <td>4.832095</td>\n",
       "      <td>58.324528</td>\n",
       "      <td>21.097932</td>\n",
       "      <td>26.299731</td>\n",
       "      <td>63.637446</td>\n",
       "      <td>57.414433</td>\n",
       "      <td>17.170177</td>\n",
       "      <td>18.170840</td>\n",
       "      <td>5.674512</td>\n",
       "      <td>45.612135</td>\n",
       "      <td>...</td>\n",
       "      <td>10.620478</td>\n",
       "      <td>18.333296</td>\n",
       "      <td>51.350886</td>\n",
       "      <td>48.664870</td>\n",
       "      <td>27.772243</td>\n",
       "      <td>10.508860</td>\n",
       "      <td>4.706113</td>\n",
       "      <td>88.879239</td>\n",
       "      <td>50.951152</td>\n",
       "      <td>31.550954</td>\n",
       "    </tr>\n",
       "  </tbody>\n",
       "</table>\n",
       "<p>7561 rows × 50 columns</p>\n",
       "</div>"
      ],
      "text/plain": [
       "            0          1          2          3          4          5   \\\n",
       "0     1.000000   1.000000   1.000000   1.000000   1.000000   1.000000   \n",
       "1     1.010802   0.985602   0.996912   1.006209   1.004209   1.004943   \n",
       "2     1.023762   0.981676   1.008717   0.998714   1.003843   0.999878   \n",
       "3     1.039770   0.979801   1.003805   1.002345   1.012291   0.995131   \n",
       "4     1.033534   0.973929   1.001325   0.995977   1.011328   1.002928   \n",
       "...        ...        ...        ...        ...        ...        ...   \n",
       "7556  4.779681  57.591412  21.613364  24.958145  65.232641  56.323629   \n",
       "7557  4.762781  57.193475  21.533625  25.566027  64.173927  56.584284   \n",
       "7558  4.776264  57.678705  21.435154  25.836439  64.267510  57.063665   \n",
       "7559  4.752205  58.204740  21.185449  25.913647  64.311503  56.796453   \n",
       "7560  4.832095  58.324528  21.097932  26.299731  63.637446  57.414433   \n",
       "\n",
       "             6          7         8          9   ...         40         41  \\\n",
       "0      1.000000   1.000000  1.000000   1.000000  ...   1.000000   1.000000   \n",
       "1      1.012439   0.990832  1.004034   0.996536  ...   0.998691   1.006224   \n",
       "2      1.024483   1.012946  0.992129   0.993229  ...   0.992828   1.009030   \n",
       "3      1.021465   1.011981  0.986555   1.007591  ...   0.988410   1.019222   \n",
       "4      1.017002   1.023722  0.986880   1.004701  ...   0.972662   1.016620   \n",
       "...         ...        ...       ...        ...  ...        ...        ...   \n",
       "7556  17.219020  18.068115  5.804134  44.892718  ...  10.623773  18.296373   \n",
       "7557  17.196658  18.204889  5.765119  44.998405  ...  10.539775  18.075180   \n",
       "7558  17.264610  18.111013  5.765622  45.830753  ...  10.563804  18.159307   \n",
       "7559  17.225414  18.068541  5.753475  45.814602  ...  10.523144  18.292632   \n",
       "7560  17.170177  18.170840  5.674512  45.612135  ...  10.620478  18.333296   \n",
       "\n",
       "             42         43         44         45        46         47  \\\n",
       "0      1.000000   1.000000   1.000000   1.000000  1.000000   1.000000   \n",
       "1      1.013381   0.985074   0.993862   1.000298  1.014243   1.014189   \n",
       "2      1.015010   0.988525   0.993017   0.988170  1.019739   1.022817   \n",
       "3      1.008133   0.993833   0.994335   0.979609  1.022973   1.027897   \n",
       "4      1.014785   0.987563   0.988879   0.974608  1.032017   1.026029   \n",
       "...         ...        ...        ...        ...       ...        ...   \n",
       "7556  50.335620  49.249697  28.049187  10.661593  4.481488  89.266344   \n",
       "7557  50.407339  49.645186  27.898612  10.631462  4.536444  88.208814   \n",
       "7558  50.339210  48.912078  27.647658  10.610077  4.590532  88.953880   \n",
       "7559  50.375885  48.870647  27.923869  10.499646  4.663944  89.324493   \n",
       "7560  51.350886  48.664870  27.772243  10.508860  4.706113  88.879239   \n",
       "\n",
       "             48         49  \n",
       "0      1.000000   1.000000  \n",
       "1      0.997497   1.006085  \n",
       "2      0.998459   1.015030  \n",
       "3      1.006156   1.015423  \n",
       "4      1.009732   1.028470  \n",
       "...         ...        ...  \n",
       "7556  49.472212  31.536474  \n",
       "7557  50.159066  31.643153  \n",
       "7558  50.634690  31.573141  \n",
       "7559  51.057650  31.664763  \n",
       "7560  50.951152  31.550954  \n",
       "\n",
       "[7561 rows x 50 columns]"
      ]
     },
     "execution_count": 85,
     "metadata": {},
     "output_type": "execute_result"
    }
   ],
   "source": [
    "# Run the Monte Carlo simulation to forecast 30 years cumulative returns\n",
    "MC_30yr.calc_cumulative_return()\n"
   ]
  },
  {
   "cell_type": "code",
   "execution_count": 86,
   "metadata": {},
   "outputs": [
    {
     "data": {
      "text/plain": [
       "<AxesSubplot:title={'center':'50 Simulations of Cumulative Portfolio Return Trajectories Over the Next 7560 Trading Days.'}>"
      ]
     },
     "execution_count": 86,
     "metadata": {},
     "output_type": "execute_result"
    },
    {
     "data": {
      "image/png": "[encoded data removed]",
      "text/plain": [
       "<Figure size 432x288 with 1 Axes>"
      ]
     },
     "metadata": {
      "needs_background": "light"
     },
     "output_type": "display_data"
    }
   ],
   "source": [
    "# Visualize the 30-year Monte Carlo simulation by creating an\n",
    "# overlay line plot\n",
    "MC_30yr.plot_simulation()\n"
   ]
  },
  {
   "cell_type": "markdown",
   "metadata": {},
   "source": [
    "#### Step 3: Plot the probability distribution of the Monte Carlo simulation."
   ]
  },
  {
   "cell_type": "code",
   "execution_count": 87,
   "metadata": {},
   "outputs": [
    {
     "data": {
      "text/plain": [
       "<AxesSubplot:title={'center':'Distribution of Final Cumuluative Returns Across All 50 Simulations'}, ylabel='Frequency'>"
      ]
     },
     "execution_count": 87,
     "metadata": {},
     "output_type": "execute_result"
    },
    {
     "data": {
      "image/png": "[encoded data removed]",
      "text/plain": [
       "<Figure size 432x288 with 1 Axes>"
      ]
     },
     "metadata": {
      "needs_background": "light"
     },
     "output_type": "display_data"
    }
   ],
   "source": [
    "# Visualize the probability distribution of the 30-year Monte Carlo simulation \n",
    "# by plotting a histogram\n",
    "MC_30yr.plot_distribution()\n"
   ]
  },
  {
   "cell_type": "markdown",
   "metadata": {},
   "source": [
    "#### Step 4: Generate the summary statistics for the Monte Carlo simulation."
   ]
  },
  {
   "cell_type": "code",
   "execution_count": 89,
   "metadata": {},
   "outputs": [
    {
     "data": {
      "text/plain": [
       "count            50.000000\n",
       "mean             33.719189\n",
       "std              33.058472\n",
       "min               2.226181\n",
       "25%              18.211454\n",
       "50%              25.520936\n",
       "75%              40.463040\n",
       "max             204.156756\n",
       "95% CI Lower      4.734459\n",
       "95% CI Upper    113.692554\n",
       "Name: 7560, dtype: float64"
      ]
     },
     "execution_count": 89,
     "metadata": {},
     "output_type": "execute_result"
    }
   ],
   "source": [
    "# Generate summary statistics from the 30-year Monte Carlo simulation results\n",
    "# Save the results as a variable\n",
    "MC_30yr_summary_stats=MC_30yr.summarize_cumulative_return()\n",
    "\n",
    "# Review the 30-year Monte Carlo summary statistics\n",
    "MC_30yr_summary_stats"
   ]
  },
  {
   "cell_type": "markdown",
   "metadata": {},
   "source": [
    "### Analyze the Retirement Portfolio Forecasts\n",
    "\n",
    "Using the current value of only the stock and bond portion of the member's portfolio and the summary statistics that you generated from the Monte Carlo simulation, answer the following question in your Jupyter notebook:\n",
    "\n",
    "-  What are the lower and upper bounds for the expected value of the portfolio with a 95% confidence interval?\n"
   ]
  },
  {
   "cell_type": "code",
   "execution_count": 90,
   "metadata": {},
   "outputs": [
    {
     "name": "stdout",
     "output_type": "stream",
     "text": [
      "137612.1\n"
     ]
    }
   ],
   "source": [
    "# Print the current balance of the stock and bond portion of the members portfolio\n",
    "print(total_stocks_bonds)\n"
   ]
  },
  {
   "cell_type": "code",
   "execution_count": 91,
   "metadata": {},
   "outputs": [
    {
     "name": "stdout",
     "output_type": "stream",
     "text": [
      "There is a 95% chance that over the next 30 years the total stocks & bonds will end within the range of $ 651518.80 and $ 15645471.17.\n"
     ]
    }
   ],
   "source": [
    "# Use the lower and upper `95%` confidence intervals to calculate the range of the possible outcomes for the current stock/bond portfolio\n",
    "ci_lower_thirty_cumulative_return = MC_30yr_summary_stats[8]*total_stocks_bonds\n",
    "ci_upper_thirty_cumulative_return = MC_30yr_summary_stats[9]*total_stocks_bonds\n",
    "\n",
    "# Print the result of your calculations\n",
    "print(f\"There is a 95% chance that over the next 30 years the total stocks & bonds will end within the range of\"\n",
    "      f\" ${ci_lower_thirty_cumulative_return: .2f} and ${ci_upper_thirty_cumulative_return: .2f}.\")\n"
   ]
  },
  {
   "cell_type": "markdown",
   "metadata": {},
   "source": [
    "### Forecast Cumulative Returns in 10 Years\n",
    "\n",
    "The CTO of the credit union is impressed with your work on these planning tools but wonders if 30 years is a long time to wait until retirement. So, your next task is to adjust the retirement portfolio and run a new Monte Carlo simulation to find out if the changes will allow members to retire earlier.\n",
    "\n",
    "For this new Monte Carlo simulation, do the following: \n",
    "\n",
    "- Forecast the cumulative returns for 10 years from now. Because of the shortened investment horizon (30 years to 10 years), the portfolio needs to invest more heavily in the riskier asset&mdash;that is, stock&mdash;to help accumulate wealth for retirement. \n",
    "\n",
    "- Adjust the weights of the retirement portfolio so that the composition for the Monte Carlo simulation consists of 20% bonds and 80% stocks. \n",
    "\n",
    "- Run the simulation over 500 samples, and use the same data that the API call to Alpaca generated.\n",
    "\n",
    "- Based on the new Monte Carlo simulation, answer the following questions in your Jupyter notebook:\n",
    "\n",
    "    - Using the current value of only the stock and bond portion of the member's portfolio and the summary statistics that you generated from the new Monte Carlo simulation, what are the lower and upper bounds for the expected value of the portfolio (with the new weights) with a 95% confidence interval?\n",
    "\n",
    "    - Will weighting the portfolio more heavily toward stocks allow the credit union members to retire after only 10 years?\n"
   ]
  },
  {
   "cell_type": "code",
   "execution_count": 94,
   "metadata": {},
   "outputs": [
    {
     "data": {
      "text/html": [
       "<div>\n",
       "<style scoped>\n",
       "    .dataframe tbody tr th:only-of-type {\n",
       "        vertical-align: middle;\n",
       "    }\n",
       "\n",
       "    .dataframe tbody tr th {\n",
       "        vertical-align: top;\n",
       "    }\n",
       "\n",
       "    .dataframe thead tr th {\n",
       "        text-align: left;\n",
       "    }\n",
       "\n",
       "    .dataframe thead tr:last-of-type th {\n",
       "        text-align: right;\n",
       "    }\n",
       "</style>\n",
       "<table border=\"1\" class=\"dataframe\">\n",
       "  <thead>\n",
       "    <tr>\n",
       "      <th></th>\n",
       "      <th colspan=\"8\" halign=\"left\">AGG</th>\n",
       "      <th colspan=\"8\" halign=\"left\">SPY</th>\n",
       "    </tr>\n",
       "    <tr>\n",
       "      <th></th>\n",
       "      <th>open</th>\n",
       "      <th>high</th>\n",
       "      <th>low</th>\n",
       "      <th>close</th>\n",
       "      <th>volume</th>\n",
       "      <th>trade_count</th>\n",
       "      <th>vwap</th>\n",
       "      <th>daily_return</th>\n",
       "      <th>open</th>\n",
       "      <th>high</th>\n",
       "      <th>low</th>\n",
       "      <th>close</th>\n",
       "      <th>volume</th>\n",
       "      <th>trade_count</th>\n",
       "      <th>vwap</th>\n",
       "      <th>daily_return</th>\n",
       "    </tr>\n",
       "    <tr>\n",
       "      <th>timestamp</th>\n",
       "      <th></th>\n",
       "      <th></th>\n",
       "      <th></th>\n",
       "      <th></th>\n",
       "      <th></th>\n",
       "      <th></th>\n",
       "      <th></th>\n",
       "      <th></th>\n",
       "      <th></th>\n",
       "      <th></th>\n",
       "      <th></th>\n",
       "      <th></th>\n",
       "      <th></th>\n",
       "      <th></th>\n",
       "      <th></th>\n",
       "      <th></th>\n",
       "    </tr>\n",
       "  </thead>\n",
       "  <tbody>\n",
       "    <tr>\n",
       "      <th>2018-09-24 04:00:00+00:00</th>\n",
       "      <td>105.33</td>\n",
       "      <td>105.46</td>\n",
       "      <td>105.3101</td>\n",
       "      <td>105.36</td>\n",
       "      <td>1895105</td>\n",
       "      <td>8343</td>\n",
       "      <td>105.378141</td>\n",
       "      <td>NaN</td>\n",
       "      <td>291.41</td>\n",
       "      <td>291.50</td>\n",
       "      <td>290.3700</td>\n",
       "      <td>291.02</td>\n",
       "      <td>54024894</td>\n",
       "      <td>233335</td>\n",
       "      <td>291.001935</td>\n",
       "      <td>NaN</td>\n",
       "    </tr>\n",
       "    <tr>\n",
       "      <th>2018-09-25 04:00:00+00:00</th>\n",
       "      <td>105.25</td>\n",
       "      <td>105.31</td>\n",
       "      <td>105.1800</td>\n",
       "      <td>105.31</td>\n",
       "      <td>2059394</td>\n",
       "      <td>8978</td>\n",
       "      <td>105.250925</td>\n",
       "      <td>-0.000475</td>\n",
       "      <td>291.53</td>\n",
       "      <td>291.65</td>\n",
       "      <td>290.4833</td>\n",
       "      <td>290.75</td>\n",
       "      <td>44471638</td>\n",
       "      <td>175808</td>\n",
       "      <td>290.968864</td>\n",
       "      <td>-0.000928</td>\n",
       "    </tr>\n",
       "    <tr>\n",
       "      <th>2018-09-26 04:00:00+00:00</th>\n",
       "      <td>105.37</td>\n",
       "      <td>105.60</td>\n",
       "      <td>105.3350</td>\n",
       "      <td>105.56</td>\n",
       "      <td>2912060</td>\n",
       "      <td>10663</td>\n",
       "      <td>105.466971</td>\n",
       "      <td>0.002374</td>\n",
       "      <td>290.89</td>\n",
       "      <td>292.24</td>\n",
       "      <td>289.4100</td>\n",
       "      <td>289.88</td>\n",
       "      <td>79789674</td>\n",
       "      <td>298739</td>\n",
       "      <td>290.681216</td>\n",
       "      <td>-0.002992</td>\n",
       "    </tr>\n",
       "    <tr>\n",
       "      <th>2018-09-27 04:00:00+00:00</th>\n",
       "      <td>105.50</td>\n",
       "      <td>105.64</td>\n",
       "      <td>105.5000</td>\n",
       "      <td>105.63</td>\n",
       "      <td>2528233</td>\n",
       "      <td>10665</td>\n",
       "      <td>105.573432</td>\n",
       "      <td>0.000663</td>\n",
       "      <td>290.41</td>\n",
       "      <td>291.91</td>\n",
       "      <td>290.1000</td>\n",
       "      <td>290.69</td>\n",
       "      <td>59472319</td>\n",
       "      <td>238702</td>\n",
       "      <td>290.901482</td>\n",
       "      <td>0.002794</td>\n",
       "    </tr>\n",
       "    <tr>\n",
       "      <th>2018-09-28 04:00:00+00:00</th>\n",
       "      <td>105.69</td>\n",
       "      <td>105.71</td>\n",
       "      <td>105.5100</td>\n",
       "      <td>105.52</td>\n",
       "      <td>4883958</td>\n",
       "      <td>15703</td>\n",
       "      <td>105.582785</td>\n",
       "      <td>-0.001041</td>\n",
       "      <td>290.01</td>\n",
       "      <td>291.28</td>\n",
       "      <td>289.9500</td>\n",
       "      <td>290.72</td>\n",
       "      <td>70091460</td>\n",
       "      <td>267815</td>\n",
       "      <td>290.599861</td>\n",
       "      <td>0.000103</td>\n",
       "    </tr>\n",
       "  </tbody>\n",
       "</table>\n",
       "</div>"
      ],
      "text/plain": [
       "                              AGG                                     \\\n",
       "                             open    high       low   close   volume   \n",
       "timestamp                                                              \n",
       "2018-09-24 04:00:00+00:00  105.33  105.46  105.3101  105.36  1895105   \n",
       "2018-09-25 04:00:00+00:00  105.25  105.31  105.1800  105.31  2059394   \n",
       "2018-09-26 04:00:00+00:00  105.37  105.60  105.3350  105.56  2912060   \n",
       "2018-09-27 04:00:00+00:00  105.50  105.64  105.5000  105.63  2528233   \n",
       "2018-09-28 04:00:00+00:00  105.69  105.71  105.5100  105.52  4883958   \n",
       "\n",
       "                                                                   SPY  \\\n",
       "                          trade_count        vwap daily_return    open   \n",
       "timestamp                                                                \n",
       "2018-09-24 04:00:00+00:00        8343  105.378141          NaN  291.41   \n",
       "2018-09-25 04:00:00+00:00        8978  105.250925    -0.000475  291.53   \n",
       "2018-09-26 04:00:00+00:00       10663  105.466971     0.002374  290.89   \n",
       "2018-09-27 04:00:00+00:00       10665  105.573432     0.000663  290.41   \n",
       "2018-09-28 04:00:00+00:00       15703  105.582785    -0.001041  290.01   \n",
       "\n",
       "                                                                           \\\n",
       "                             high       low   close    volume trade_count   \n",
       "timestamp                                                                   \n",
       "2018-09-24 04:00:00+00:00  291.50  290.3700  291.02  54024894      233335   \n",
       "2018-09-25 04:00:00+00:00  291.65  290.4833  290.75  44471638      175808   \n",
       "2018-09-26 04:00:00+00:00  292.24  289.4100  289.88  79789674      298739   \n",
       "2018-09-27 04:00:00+00:00  291.91  290.1000  290.69  59472319      238702   \n",
       "2018-09-28 04:00:00+00:00  291.28  289.9500  290.72  70091460      267815   \n",
       "\n",
       "                                                    \n",
       "                                 vwap daily_return  \n",
       "timestamp                                           \n",
       "2018-09-24 04:00:00+00:00  291.001935          NaN  \n",
       "2018-09-25 04:00:00+00:00  290.968864    -0.000928  \n",
       "2018-09-26 04:00:00+00:00  290.681216    -0.002992  \n",
       "2018-09-27 04:00:00+00:00  290.901482     0.002794  \n",
       "2018-09-28 04:00:00+00:00  290.599861     0.000103  "
      ]
     },
     "execution_count": 94,
     "metadata": {},
     "output_type": "execute_result"
    }
   ],
   "source": [
    "# Configure a Monte Carlo simulation to forecast 10 years cumulative returns\n",
    "# The weights should be split 20% to AGG and 80% to SPY.\n",
    "# Run 500 samples.\n",
    "MC_10yr=MCSimulation(\n",
    "    portfolio_data=ticker_df,\n",
    "    weights=[.20,.80],\n",
    "    num_simulation=500,\n",
    "    num_trading_days=252*10)\n",
    "\n",
    "# Review the simulation input data\n",
    "MC_10yr.portfolio_data.head()\n"
   ]
  },
  {
   "cell_type": "code",
   "execution_count": 95,
   "metadata": {},
   "outputs": [
    {
     "name": "stdout",
     "output_type": "stream",
     "text": [
      "Running Monte Carlo simulation number 0.\n",
      "Running Monte Carlo simulation number 10.\n",
      "Running Monte Carlo simulation number 20.\n",
      "Running Monte Carlo simulation number 30.\n",
      "Running Monte Carlo simulation number 40.\n"
     ]
    },
    {
     "data": {
      "text/html": [
       "<div>\n",
       "<style scoped>\n",
       "    .dataframe tbody tr th:only-of-type {\n",
       "        vertical-align: middle;\n",
       "    }\n",
       "\n",
       "    .dataframe tbody tr th {\n",
       "        vertical-align: top;\n",
       "    }\n",
       "\n",
       "    .dataframe thead th {\n",
       "        text-align: right;\n",
       "    }\n",
       "</style>\n",
       "<table border=\"1\" class=\"dataframe\">\n",
       "  <thead>\n",
       "    <tr style=\"text-align: right;\">\n",
       "      <th></th>\n",
       "      <th>0</th>\n",
       "      <th>1</th>\n",
       "      <th>2</th>\n",
       "      <th>3</th>\n",
       "      <th>4</th>\n",
       "      <th>5</th>\n",
       "      <th>6</th>\n",
       "      <th>7</th>\n",
       "      <th>8</th>\n",
       "      <th>9</th>\n",
       "      <th>...</th>\n",
       "      <th>40</th>\n",
       "      <th>41</th>\n",
       "      <th>42</th>\n",
       "      <th>43</th>\n",
       "      <th>44</th>\n",
       "      <th>45</th>\n",
       "      <th>46</th>\n",
       "      <th>47</th>\n",
       "      <th>48</th>\n",
       "      <th>49</th>\n",
       "    </tr>\n",
       "  </thead>\n",
       "  <tbody>\n",
       "    <tr>\n",
       "      <th>0</th>\n",
       "      <td>1.000000</td>\n",
       "      <td>1.000000</td>\n",
       "      <td>1.000000</td>\n",
       "      <td>1.000000</td>\n",
       "      <td>1.000000</td>\n",
       "      <td>1.000000</td>\n",
       "      <td>1.000000</td>\n",
       "      <td>1.000000</td>\n",
       "      <td>1.000000</td>\n",
       "      <td>1.000000</td>\n",
       "      <td>...</td>\n",
       "      <td>1.000000</td>\n",
       "      <td>1.000000</td>\n",
       "      <td>1.000000</td>\n",
       "      <td>1.000000</td>\n",
       "      <td>1.000000</td>\n",
       "      <td>1.000000</td>\n",
       "      <td>1.000000</td>\n",
       "      <td>1.000000</td>\n",
       "      <td>1.000000</td>\n",
       "      <td>1.000000</td>\n",
       "    </tr>\n",
       "    <tr>\n",
       "      <th>1</th>\n",
       "      <td>0.985788</td>\n",
       "      <td>1.001580</td>\n",
       "      <td>0.992976</td>\n",
       "      <td>1.004015</td>\n",
       "      <td>0.998779</td>\n",
       "      <td>1.019905</td>\n",
       "      <td>0.986780</td>\n",
       "      <td>1.008438</td>\n",
       "      <td>1.007767</td>\n",
       "      <td>0.997075</td>\n",
       "      <td>...</td>\n",
       "      <td>1.023461</td>\n",
       "      <td>1.003254</td>\n",
       "      <td>1.013395</td>\n",
       "      <td>1.009425</td>\n",
       "      <td>1.008007</td>\n",
       "      <td>0.999365</td>\n",
       "      <td>0.994659</td>\n",
       "      <td>0.975377</td>\n",
       "      <td>0.998850</td>\n",
       "      <td>0.996354</td>\n",
       "    </tr>\n",
       "    <tr>\n",
       "      <th>2</th>\n",
       "      <td>0.968335</td>\n",
       "      <td>1.011899</td>\n",
       "      <td>1.006140</td>\n",
       "      <td>1.012802</td>\n",
       "      <td>0.999126</td>\n",
       "      <td>1.031713</td>\n",
       "      <td>0.980688</td>\n",
       "      <td>1.032128</td>\n",
       "      <td>1.007554</td>\n",
       "      <td>1.010968</td>\n",
       "      <td>...</td>\n",
       "      <td>1.009745</td>\n",
       "      <td>0.997877</td>\n",
       "      <td>1.011888</td>\n",
       "      <td>1.022919</td>\n",
       "      <td>0.984629</td>\n",
       "      <td>1.003896</td>\n",
       "      <td>0.996496</td>\n",
       "      <td>0.985434</td>\n",
       "      <td>1.016156</td>\n",
       "      <td>0.988943</td>\n",
       "    </tr>\n",
       "    <tr>\n",
       "      <th>3</th>\n",
       "      <td>0.958444</td>\n",
       "      <td>0.995523</td>\n",
       "      <td>0.995645</td>\n",
       "      <td>1.032048</td>\n",
       "      <td>0.981796</td>\n",
       "      <td>1.041884</td>\n",
       "      <td>0.980930</td>\n",
       "      <td>1.033937</td>\n",
       "      <td>1.030644</td>\n",
       "      <td>1.000850</td>\n",
       "      <td>...</td>\n",
       "      <td>1.011165</td>\n",
       "      <td>0.993233</td>\n",
       "      <td>1.005034</td>\n",
       "      <td>0.991769</td>\n",
       "      <td>0.988691</td>\n",
       "      <td>1.012720</td>\n",
       "      <td>1.010710</td>\n",
       "      <td>0.989582</td>\n",
       "      <td>1.013071</td>\n",
       "      <td>1.010601</td>\n",
       "    </tr>\n",
       "    <tr>\n",
       "      <th>4</th>\n",
       "      <td>0.953199</td>\n",
       "      <td>1.006097</td>\n",
       "      <td>0.987897</td>\n",
       "      <td>1.041828</td>\n",
       "      <td>0.989557</td>\n",
       "      <td>1.054375</td>\n",
       "      <td>0.978075</td>\n",
       "      <td>1.019339</td>\n",
       "      <td>1.024034</td>\n",
       "      <td>1.026467</td>\n",
       "      <td>...</td>\n",
       "      <td>0.999618</td>\n",
       "      <td>1.003465</td>\n",
       "      <td>0.997072</td>\n",
       "      <td>0.992683</td>\n",
       "      <td>0.986516</td>\n",
       "      <td>1.003639</td>\n",
       "      <td>1.016568</td>\n",
       "      <td>0.997103</td>\n",
       "      <td>1.018242</td>\n",
       "      <td>1.011175</td>\n",
       "    </tr>\n",
       "    <tr>\n",
       "      <th>...</th>\n",
       "      <td>...</td>\n",
       "      <td>...</td>\n",
       "      <td>...</td>\n",
       "      <td>...</td>\n",
       "      <td>...</td>\n",
       "      <td>...</td>\n",
       "      <td>...</td>\n",
       "      <td>...</td>\n",
       "      <td>...</td>\n",
       "      <td>...</td>\n",
       "      <td>...</td>\n",
       "      <td>...</td>\n",
       "      <td>...</td>\n",
       "      <td>...</td>\n",
       "      <td>...</td>\n",
       "      <td>...</td>\n",
       "      <td>...</td>\n",
       "      <td>...</td>\n",
       "      <td>...</td>\n",
       "      <td>...</td>\n",
       "      <td>...</td>\n",
       "    </tr>\n",
       "    <tr>\n",
       "      <th>2516</th>\n",
       "      <td>5.545728</td>\n",
       "      <td>2.228340</td>\n",
       "      <td>2.058261</td>\n",
       "      <td>10.486328</td>\n",
       "      <td>2.803031</td>\n",
       "      <td>3.305801</td>\n",
       "      <td>9.684142</td>\n",
       "      <td>3.381161</td>\n",
       "      <td>7.675793</td>\n",
       "      <td>2.233173</td>\n",
       "      <td>...</td>\n",
       "      <td>3.364227</td>\n",
       "      <td>2.942014</td>\n",
       "      <td>4.123936</td>\n",
       "      <td>2.464755</td>\n",
       "      <td>1.607534</td>\n",
       "      <td>3.839973</td>\n",
       "      <td>3.257736</td>\n",
       "      <td>2.241962</td>\n",
       "      <td>1.443123</td>\n",
       "      <td>3.395559</td>\n",
       "    </tr>\n",
       "    <tr>\n",
       "      <th>2517</th>\n",
       "      <td>5.498372</td>\n",
       "      <td>2.243247</td>\n",
       "      <td>2.053384</td>\n",
       "      <td>10.427463</td>\n",
       "      <td>2.820188</td>\n",
       "      <td>3.338701</td>\n",
       "      <td>9.666688</td>\n",
       "      <td>3.338767</td>\n",
       "      <td>7.701687</td>\n",
       "      <td>2.192406</td>\n",
       "      <td>...</td>\n",
       "      <td>3.347980</td>\n",
       "      <td>2.907057</td>\n",
       "      <td>4.122099</td>\n",
       "      <td>2.454950</td>\n",
       "      <td>1.632083</td>\n",
       "      <td>3.853768</td>\n",
       "      <td>3.267460</td>\n",
       "      <td>2.258794</td>\n",
       "      <td>1.432200</td>\n",
       "      <td>3.398298</td>\n",
       "    </tr>\n",
       "    <tr>\n",
       "      <th>2518</th>\n",
       "      <td>5.603347</td>\n",
       "      <td>2.217100</td>\n",
       "      <td>1.992166</td>\n",
       "      <td>10.370575</td>\n",
       "      <td>2.798583</td>\n",
       "      <td>3.351172</td>\n",
       "      <td>9.726879</td>\n",
       "      <td>3.202446</td>\n",
       "      <td>7.876182</td>\n",
       "      <td>2.191568</td>\n",
       "      <td>...</td>\n",
       "      <td>3.320868</td>\n",
       "      <td>2.923884</td>\n",
       "      <td>4.112704</td>\n",
       "      <td>2.453516</td>\n",
       "      <td>1.658476</td>\n",
       "      <td>3.909966</td>\n",
       "      <td>3.276171</td>\n",
       "      <td>2.211610</td>\n",
       "      <td>1.438755</td>\n",
       "      <td>3.386863</td>\n",
       "    </tr>\n",
       "    <tr>\n",
       "      <th>2519</th>\n",
       "      <td>5.628471</td>\n",
       "      <td>2.208705</td>\n",
       "      <td>1.976218</td>\n",
       "      <td>10.595335</td>\n",
       "      <td>2.824629</td>\n",
       "      <td>3.358768</td>\n",
       "      <td>9.969543</td>\n",
       "      <td>3.201344</td>\n",
       "      <td>7.881701</td>\n",
       "      <td>2.202569</td>\n",
       "      <td>...</td>\n",
       "      <td>3.284393</td>\n",
       "      <td>2.907756</td>\n",
       "      <td>4.203823</td>\n",
       "      <td>2.415879</td>\n",
       "      <td>1.646795</td>\n",
       "      <td>3.873316</td>\n",
       "      <td>3.316618</td>\n",
       "      <td>2.230587</td>\n",
       "      <td>1.434643</td>\n",
       "      <td>3.366943</td>\n",
       "    </tr>\n",
       "    <tr>\n",
       "      <th>2520</th>\n",
       "      <td>5.670653</td>\n",
       "      <td>2.194745</td>\n",
       "      <td>1.984036</td>\n",
       "      <td>10.592244</td>\n",
       "      <td>2.792019</td>\n",
       "      <td>3.347583</td>\n",
       "      <td>9.953455</td>\n",
       "      <td>3.176961</td>\n",
       "      <td>7.763551</td>\n",
       "      <td>2.219960</td>\n",
       "      <td>...</td>\n",
       "      <td>3.293028</td>\n",
       "      <td>2.878004</td>\n",
       "      <td>4.160228</td>\n",
       "      <td>2.398607</td>\n",
       "      <td>1.649976</td>\n",
       "      <td>3.902060</td>\n",
       "      <td>3.345539</td>\n",
       "      <td>2.218924</td>\n",
       "      <td>1.413083</td>\n",
       "      <td>3.347956</td>\n",
       "    </tr>\n",
       "  </tbody>\n",
       "</table>\n",
       "<p>2521 rows × 50 columns</p>\n",
       "</div>"
      ],
      "text/plain": [
       "            0         1         2          3         4         5         6   \\\n",
       "0     1.000000  1.000000  1.000000   1.000000  1.000000  1.000000  1.000000   \n",
       "1     0.985788  1.001580  0.992976   1.004015  0.998779  1.019905  0.986780   \n",
       "2     0.968335  1.011899  1.006140   1.012802  0.999126  1.031713  0.980688   \n",
       "3     0.958444  0.995523  0.995645   1.032048  0.981796  1.041884  0.980930   \n",
       "4     0.953199  1.006097  0.987897   1.041828  0.989557  1.054375  0.978075   \n",
       "...        ...       ...       ...        ...       ...       ...       ...   \n",
       "2516  5.545728  2.228340  2.058261  10.486328  2.803031  3.305801  9.684142   \n",
       "2517  5.498372  2.243247  2.053384  10.427463  2.820188  3.338701  9.666688   \n",
       "2518  5.603347  2.217100  1.992166  10.370575  2.798583  3.351172  9.726879   \n",
       "2519  5.628471  2.208705  1.976218  10.595335  2.824629  3.358768  9.969543   \n",
       "2520  5.670653  2.194745  1.984036  10.592244  2.792019  3.347583  9.953455   \n",
       "\n",
       "            7         8         9   ...        40        41        42  \\\n",
       "0     1.000000  1.000000  1.000000  ...  1.000000  1.000000  1.000000   \n",
       "1     1.008438  1.007767  0.997075  ...  1.023461  1.003254  1.013395   \n",
       "2     1.032128  1.007554  1.010968  ...  1.009745  0.997877  1.011888   \n",
       "3     1.033937  1.030644  1.000850  ...  1.011165  0.993233  1.005034   \n",
       "4     1.019339  1.024034  1.026467  ...  0.999618  1.003465  0.997072   \n",
       "...        ...       ...       ...  ...       ...       ...       ...   \n",
       "2516  3.381161  7.675793  2.233173  ...  3.364227  2.942014  4.123936   \n",
       "2517  3.338767  7.701687  2.192406  ...  3.347980  2.907057  4.122099   \n",
       "2518  3.202446  7.876182  2.191568  ...  3.320868  2.923884  4.112704   \n",
       "2519  3.201344  7.881701  2.202569  ...  3.284393  2.907756  4.203823   \n",
       "2520  3.176961  7.763551  2.219960  ...  3.293028  2.878004  4.160228   \n",
       "\n",
       "            43        44        45        46        47        48        49  \n",
       "0     1.000000  1.000000  1.000000  1.000000  1.000000  1.000000  1.000000  \n",
       "1     1.009425  1.008007  0.999365  0.994659  0.975377  0.998850  0.996354  \n",
       "2     1.022919  0.984629  1.003896  0.996496  0.985434  1.016156  0.988943  \n",
       "3     0.991769  0.988691  1.012720  1.010710  0.989582  1.013071  1.010601  \n",
       "4     0.992683  0.986516  1.003639  1.016568  0.997103  1.018242  1.011175  \n",
       "...        ...       ...       ...       ...       ...       ...       ...  \n",
       "2516  2.464755  1.607534  3.839973  3.257736  2.241962  1.443123  3.395559  \n",
       "2517  2.454950  1.632083  3.853768  3.267460  2.258794  1.432200  3.398298  \n",
       "2518  2.453516  1.658476  3.909966  3.276171  2.211610  1.438755  3.386863  \n",
       "2519  2.415879  1.646795  3.873316  3.316618  2.230587  1.434643  3.366943  \n",
       "2520  2.398607  1.649976  3.902060  3.345539  2.218924  1.413083  3.347956  \n",
       "\n",
       "[2521 rows x 50 columns]"
      ]
     },
     "execution_count": 95,
     "metadata": {},
     "output_type": "execute_result"
    }
   ],
   "source": [
    "# Run the Monte Carlo simulation to forecast 10 years cumulative returns\n",
    "MC_10yr.calc_cumulative_return()\n"
   ]
  },
  {
   "cell_type": "code",
   "execution_count": 96,
   "metadata": {},
   "outputs": [
    {
     "data": {
      "text/plain": [
       "<AxesSubplot:title={'center':'50 Simulations of Cumulative Portfolio Return Trajectories Over the Next 2520 Trading Days.'}>"
      ]
     },
     "execution_count": 96,
     "metadata": {},
     "output_type": "execute_result"
    },
    {
     "data": {
      "image/png": "[encoded data removed]",
      "text/plain": [
       "<Figure size 432x288 with 1 Axes>"
      ]
     },
     "metadata": {
      "needs_background": "light"
     },
     "output_type": "display_data"
    }
   ],
   "source": [
    "# Visualize the 10-year Monte Carlo simulation by creating an\n",
    "# overlay line plot\n",
    "MC_10yr.plot_simulation()\n"
   ]
  },
  {
   "cell_type": "code",
   "execution_count": 97,
   "metadata": {},
   "outputs": [
    {
     "data": {
      "text/plain": [
       "<AxesSubplot:title={'center':'Distribution of Final Cumuluative Returns Across All 50 Simulations'}, ylabel='Frequency'>"
      ]
     },
     "execution_count": 97,
     "metadata": {},
     "output_type": "execute_result"
    },
    {
     "data": {
      "image/png": "[encoded data removed]",
      "text/plain": [
       "<Figure size 432x288 with 1 Axes>"
      ]
     },
     "metadata": {
      "needs_background": "light"
     },
     "output_type": "display_data"
    }
   ],
   "source": [
    "# Visualize the probability distribution of the 10-year Monte Carlo simulation \n",
    "# by plotting a histogram\n",
    "MC_10yr.plot_distribution()\n"
   ]
  },
  {
   "cell_type": "code",
   "execution_count": 98,
   "metadata": {},
   "outputs": [
    {
     "name": "stdout",
     "output_type": "stream",
     "text": [
      "count           50.000000\n",
      "mean             4.255286\n",
      "std              3.425721\n",
      "min              0.789253\n",
      "25%              2.402145\n",
      "50%              3.130951\n",
      "75%              5.026005\n",
      "max             20.118677\n",
      "95% CI Lower     1.028728\n",
      "95% CI Upper    13.108664\n",
      "Name: 2520, dtype: float64\n"
     ]
    }
   ],
   "source": [
    "# Generate summary statistics from the 10-year Monte Carlo simulation results\n",
    "# Save the results as a variable\n",
    "MC_10yr_summary_stats=MC_10yr.summarize_cumulative_return()\n",
    "\n",
    "# Review the 10-year Monte Carlo summary statistics\n",
    "print(MC_10yr_summary_stats)"
   ]
  },
  {
   "cell_type": "markdown",
   "metadata": {},
   "source": [
    "### Answer the following questions:"
   ]
  },
  {
   "cell_type": "markdown",
   "metadata": {},
   "source": [
    "#### Question: Using the current value of only the stock and bond portion of the member's portfolio and the summary statistics that you generated from the new Monte Carlo simulation, what are the lower and upper bounds for the expected value of the portfolio (with the new weights) with a 95% confidence interval?"
   ]
  },
  {
   "cell_type": "code",
   "execution_count": 99,
   "metadata": {},
   "outputs": [
    {
     "name": "stdout",
     "output_type": "stream",
     "text": [
      "137612.1\n"
     ]
    }
   ],
   "source": [
    "# Print the current balance of the stock and bond portion of the members portfolio\n",
    "print(total_stocks_bonds)\n"
   ]
  },
  {
   "cell_type": "code",
   "execution_count": 100,
   "metadata": {},
   "outputs": [
    {
     "name": "stdout",
     "output_type": "stream",
     "text": [
      "There is a 95% chance that over the next 10 years the total stocks & bonds will end within the range of $ 141565.43 and $ 1803910.75.\n"
     ]
    }
   ],
   "source": [
    "# Use the lower and upper `95%` confidence intervals to calculate the range of the possible outcomes for the current stock/bond portfolio\n",
    "ci_lower_ten_cumulative_return = MC_10yr_summary_stats[8] * total_stocks_bonds\n",
    "ci_upper_ten_cumulative_return = MC_10yr_summary_stats[9] * total_stocks_bonds\n",
    "\n",
    "# Print the result of your calculations\n",
    "print(f\"There is a 95% chance that over the next 10 years the total stocks & bonds will end within the range of\"\n",
    "      f\" ${ci_lower_ten_cumulative_return: .2f} and ${ci_upper_ten_cumulative_return: .2f}.\")"
   ]
  },
  {
   "cell_type": "markdown",
   "metadata": {},
   "source": [
    "#### Question: Will weighting the portfolio more heavily to stocks allow the credit union members to retire after only 10 years?"
   ]
  },
  {
   "cell_type": "raw",
   "metadata": {},
   "source": [
    "**Answer** # yes. "
   ]
  },
  {
   "cell_type": "code",
   "execution_count": null,
   "metadata": {},
   "outputs": [],
   "source": []
  }
 ],
 "metadata": {
  "kernelspec": {
   "display_name": "Python 3 (ipykernel)",
   "language": "python",
   "name": "python3"
  },
  "language_info": {
   "codemirror_mode": {
    "name": "ipython",
    "version": 3
   },
   "file_extension": ".py",
   "mimetype": "text/x-python",
   "name": "python",
   "nbconvert_exporter": "python",
   "pygments_lexer": "ipython3",
   "version": "3.9.7"
  },
  "vscode": {
   "interpreter": {
    "hash": "f1031c11e631fcc469ddcdcd7aa612a39a7c21e109d125ded6dff34779b253fb"
   }
  }
 },
 "nbformat": 4,
 "nbformat_minor": 4
}
